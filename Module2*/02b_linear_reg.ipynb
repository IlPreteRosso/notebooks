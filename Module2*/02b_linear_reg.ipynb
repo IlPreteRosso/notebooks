{
 "cells": [
  {
   "attachments": {},
   "cell_type": "markdown",
   "metadata": {},
   "source": [
    "[![Dataflowr](https://raw.githubusercontent.com/dataflowr/website/master/_assets/dataflowr_logo.png)](https://dataflowr.github.io/website/)"
   ]
  },
  {
   "attachments": {},
   "cell_type": "markdown",
   "metadata": {},
   "source": [
    "# Module 2b: Playing with pytorch: linear regression\n",
    "\n",
    "[Video timestamp](https://youtu.be/Z6H3zakmn6E?t=960)"
   ]
  },
  {
   "cell_type": "code",
   "execution_count": 1,
   "metadata": {
    "colab": {},
    "colab_type": "code",
    "id": "zOgNQwiv8We1"
   },
   "outputs": [],
   "source": [
    "import matplotlib.pyplot as plt\n",
    "import plotly.express as px\n",
    "%matplotlib inline\n",
    "import torch\n",
    "import numpy as np\n",
    "from tqdm import tqdm"
   ]
  },
  {
   "cell_type": "code",
   "execution_count": 2,
   "metadata": {
    "colab": {},
    "colab_type": "code",
    "id": "smvq6dbY8We4"
   },
   "outputs": [
    {
     "data": {
      "text/plain": [
       "'2.0.0'"
      ]
     },
     "execution_count": 2,
     "metadata": {},
     "output_type": "execute_result"
    }
   ],
   "source": [
    "torch.__version__"
   ]
  },
  {
   "attachments": {},
   "cell_type": "markdown",
   "metadata": {
    "colab_type": "text",
    "id": "XsESRui28Wgy"
   },
   "source": [
    "## Warm-up: Linear regression with numpy"
   ]
  },
  {
   "attachments": {},
   "cell_type": "markdown",
   "metadata": {
    "colab_type": "text",
    "id": "FvAi4z478Wg0"
   },
   "source": [
    "Our model is:\n",
    "$$\n",
    "y_t = 2x^1_t-3x^2_t+1, \\quad t\\in\\{1,\\dots,30\\}\n",
    "$$\n",
    "\n",
    "Our task is given the 'observations' $(x_t,y_t)_{t\\in\\{1,\\dots,30\\}}$ to recover the weights $w^1=2, w^2=-3$ and the bias $b = 1$.\n",
    "\n",
    "In order to do so, we will solve the following optimization problem:\n",
    "$$\n",
    "\\underset{w^1,w^2,b}{\\operatorname{argmin}} \\sum_{t=1}^{30} \\left(w^1x^1_t+w^2x^2_t+b-y_t\\right)^2\n",
    "$$\n",
    "\n",
    "[Video timestamp](https://youtu.be/Z6H3zakmn6E?t=1080)"
   ]
  },
  {
   "cell_type": "code",
   "execution_count": 3,
   "metadata": {
    "colab": {},
    "colab_type": "code",
    "id": "_hSr09Qa8Wg1"
   },
   "outputs": [],
   "source": [
    "import numpy as np\n",
    "import pandas as pd\n",
    "from numpy.random import random\n",
    "# generate random input data\n",
    "x = random((30,2))\n",
    "\n",
    "# generate labels corresponding to input data x\n",
    "y = np.dot(x, [2., -3.]) + 1.\n",
    "w_source = np.array([2., -3.])\n",
    "b_source  = np.array([1.])"
   ]
  },
  {
   "cell_type": "code",
   "execution_count": 4,
   "metadata": {},
   "outputs": [
    {
     "data": {
      "application/vnd.plotly.v1+json": {
       "config": {
        "plotlyServerURL": "https://plot.ly"
       },
       "data": [
        {
         "hovertemplate": "x1=%{x}<br>x2=%{y}<br>y=%{z}<extra></extra>",
         "legendgroup": "",
         "marker": {
          "color": "#636efa",
          "symbol": "circle"
         },
         "mode": "markers",
         "name": "",
         "scene": "scene",
         "showlegend": false,
         "type": "scatter3d",
         "x": [
          0.3685521676191055,
          0.6539342910288575,
          0.6576396948214643,
          0.7616336539255275,
          0.8057980831630476,
          0.7086628418196269,
          0.7987134058346094,
          0.6904068120945316,
          0.41527633048431156,
          0.013884795976942033,
          0.9419421732613841,
          0.577112888763538,
          0.4599185553149364,
          0.47719990360019127,
          0.13205080811123582,
          0.8510972637395252,
          0.26778377783545393,
          0.9245716023774786,
          0.9523646413630985,
          0.006098950222454325,
          0.0928723670735978,
          0.6680858162409558,
          0.18550541565205192,
          0.417105638287239,
          0.5787487093187872,
          0.1744642567687218,
          0.43031328365188803,
          0.19973585256472892,
          0.718900837204028,
          0.5730679359648125
         ],
         "y": [
          0.25259517355055083,
          0.06254248969523024,
          0.2612397017606737,
          0.9152269436252181,
          0.8583344015612514,
          0.625370958793918,
          0.8936230771827026,
          0.8737514800491906,
          0.1889195148712688,
          0.6847566136801289,
          0.9595099534302788,
          0.5512495129260312,
          0.822972492003545,
          0.49270098284832087,
          0.47965440043902097,
          0.444407252728073,
          0.9879234336624841,
          0.08760553464686949,
          0.20497246164354943,
          0.3108681445453485,
          0.2972943209305081,
          0.3084492333063539,
          0.3450971012447347,
          0.5902273216479779,
          0.7584433560447088,
          0.5991300335490923,
          0.7317812291412189,
          0.41007301651976735,
          0.9043514828208004,
          0.0760953238348192
         ],
         "z": [
          0.9793188145865585,
          2.1202411129720242,
          1.5315602843609075,
          -0.22241352302459916,
          0.03659296164234094,
          0.5412128072574998,
          -0.08344241987888923,
          -0.24044081595850852,
          1.2637941163548168,
          -1.0265002490865025,
          0.005354486231931799,
          0.5004772387489823,
          -0.5490803653807623,
          0.47629685865541993,
          -0.17486158509459138,
          1.3689727692948312,
          -1.4282027453165447,
          2.5863266008143486,
          2.289811897795549,
          0.07959346680886314,
          0.29386177135567126,
          1.4108239325628498,
          0.33571952756989976,
          0.06352931163054443,
          -0.11783264949655203,
          -0.4484615871098334,
          -0.33471712011988064,
          0.16925265557015579,
          -0.2752527740543451,
          1.9178499004251675
         ]
        }
       ],
       "layout": {
        "legend": {
         "tracegroupgap": 0
        },
        "margin": {
         "t": 60
        },
        "scene": {
         "domain": {
          "x": [
           0,
           1
          ],
          "y": [
           0,
           1
          ]
         },
         "xaxis": {
          "nticks": 10,
          "range": [
           0,
           1
          ],
          "title": {
           "text": "x1"
          }
         },
         "yaxis": {
          "nticks": 10,
          "range": [
           0,
           1
          ],
          "title": {
           "text": "x2"
          }
         },
         "zaxis": {
          "title": {
           "text": "y"
          }
         }
        },
        "template": {
         "data": {
          "bar": [
           {
            "error_x": {
             "color": "#2a3f5f"
            },
            "error_y": {
             "color": "#2a3f5f"
            },
            "marker": {
             "line": {
              "color": "#E5ECF6",
              "width": 0.5
             },
             "pattern": {
              "fillmode": "overlay",
              "size": 10,
              "solidity": 0.2
             }
            },
            "type": "bar"
           }
          ],
          "barpolar": [
           {
            "marker": {
             "line": {
              "color": "#E5ECF6",
              "width": 0.5
             },
             "pattern": {
              "fillmode": "overlay",
              "size": 10,
              "solidity": 0.2
             }
            },
            "type": "barpolar"
           }
          ],
          "carpet": [
           {
            "aaxis": {
             "endlinecolor": "#2a3f5f",
             "gridcolor": "white",
             "linecolor": "white",
             "minorgridcolor": "white",
             "startlinecolor": "#2a3f5f"
            },
            "baxis": {
             "endlinecolor": "#2a3f5f",
             "gridcolor": "white",
             "linecolor": "white",
             "minorgridcolor": "white",
             "startlinecolor": "#2a3f5f"
            },
            "type": "carpet"
           }
          ],
          "choropleth": [
           {
            "colorbar": {
             "outlinewidth": 0,
             "ticks": ""
            },
            "type": "choropleth"
           }
          ],
          "contour": [
           {
            "colorbar": {
             "outlinewidth": 0,
             "ticks": ""
            },
            "colorscale": [
             [
              0,
              "#0d0887"
             ],
             [
              0.1111111111111111,
              "#46039f"
             ],
             [
              0.2222222222222222,
              "#7201a8"
             ],
             [
              0.3333333333333333,
              "#9c179e"
             ],
             [
              0.4444444444444444,
              "#bd3786"
             ],
             [
              0.5555555555555556,
              "#d8576b"
             ],
             [
              0.6666666666666666,
              "#ed7953"
             ],
             [
              0.7777777777777778,
              "#fb9f3a"
             ],
             [
              0.8888888888888888,
              "#fdca26"
             ],
             [
              1,
              "#f0f921"
             ]
            ],
            "type": "contour"
           }
          ],
          "contourcarpet": [
           {
            "colorbar": {
             "outlinewidth": 0,
             "ticks": ""
            },
            "type": "contourcarpet"
           }
          ],
          "heatmap": [
           {
            "colorbar": {
             "outlinewidth": 0,
             "ticks": ""
            },
            "colorscale": [
             [
              0,
              "#0d0887"
             ],
             [
              0.1111111111111111,
              "#46039f"
             ],
             [
              0.2222222222222222,
              "#7201a8"
             ],
             [
              0.3333333333333333,
              "#9c179e"
             ],
             [
              0.4444444444444444,
              "#bd3786"
             ],
             [
              0.5555555555555556,
              "#d8576b"
             ],
             [
              0.6666666666666666,
              "#ed7953"
             ],
             [
              0.7777777777777778,
              "#fb9f3a"
             ],
             [
              0.8888888888888888,
              "#fdca26"
             ],
             [
              1,
              "#f0f921"
             ]
            ],
            "type": "heatmap"
           }
          ],
          "heatmapgl": [
           {
            "colorbar": {
             "outlinewidth": 0,
             "ticks": ""
            },
            "colorscale": [
             [
              0,
              "#0d0887"
             ],
             [
              0.1111111111111111,
              "#46039f"
             ],
             [
              0.2222222222222222,
              "#7201a8"
             ],
             [
              0.3333333333333333,
              "#9c179e"
             ],
             [
              0.4444444444444444,
              "#bd3786"
             ],
             [
              0.5555555555555556,
              "#d8576b"
             ],
             [
              0.6666666666666666,
              "#ed7953"
             ],
             [
              0.7777777777777778,
              "#fb9f3a"
             ],
             [
              0.8888888888888888,
              "#fdca26"
             ],
             [
              1,
              "#f0f921"
             ]
            ],
            "type": "heatmapgl"
           }
          ],
          "histogram": [
           {
            "marker": {
             "pattern": {
              "fillmode": "overlay",
              "size": 10,
              "solidity": 0.2
             }
            },
            "type": "histogram"
           }
          ],
          "histogram2d": [
           {
            "colorbar": {
             "outlinewidth": 0,
             "ticks": ""
            },
            "colorscale": [
             [
              0,
              "#0d0887"
             ],
             [
              0.1111111111111111,
              "#46039f"
             ],
             [
              0.2222222222222222,
              "#7201a8"
             ],
             [
              0.3333333333333333,
              "#9c179e"
             ],
             [
              0.4444444444444444,
              "#bd3786"
             ],
             [
              0.5555555555555556,
              "#d8576b"
             ],
             [
              0.6666666666666666,
              "#ed7953"
             ],
             [
              0.7777777777777778,
              "#fb9f3a"
             ],
             [
              0.8888888888888888,
              "#fdca26"
             ],
             [
              1,
              "#f0f921"
             ]
            ],
            "type": "histogram2d"
           }
          ],
          "histogram2dcontour": [
           {
            "colorbar": {
             "outlinewidth": 0,
             "ticks": ""
            },
            "colorscale": [
             [
              0,
              "#0d0887"
             ],
             [
              0.1111111111111111,
              "#46039f"
             ],
             [
              0.2222222222222222,
              "#7201a8"
             ],
             [
              0.3333333333333333,
              "#9c179e"
             ],
             [
              0.4444444444444444,
              "#bd3786"
             ],
             [
              0.5555555555555556,
              "#d8576b"
             ],
             [
              0.6666666666666666,
              "#ed7953"
             ],
             [
              0.7777777777777778,
              "#fb9f3a"
             ],
             [
              0.8888888888888888,
              "#fdca26"
             ],
             [
              1,
              "#f0f921"
             ]
            ],
            "type": "histogram2dcontour"
           }
          ],
          "mesh3d": [
           {
            "colorbar": {
             "outlinewidth": 0,
             "ticks": ""
            },
            "type": "mesh3d"
           }
          ],
          "parcoords": [
           {
            "line": {
             "colorbar": {
              "outlinewidth": 0,
              "ticks": ""
             }
            },
            "type": "parcoords"
           }
          ],
          "pie": [
           {
            "automargin": true,
            "type": "pie"
           }
          ],
          "scatter": [
           {
            "fillpattern": {
             "fillmode": "overlay",
             "size": 10,
             "solidity": 0.2
            },
            "type": "scatter"
           }
          ],
          "scatter3d": [
           {
            "line": {
             "colorbar": {
              "outlinewidth": 0,
              "ticks": ""
             }
            },
            "marker": {
             "colorbar": {
              "outlinewidth": 0,
              "ticks": ""
             }
            },
            "type": "scatter3d"
           }
          ],
          "scattercarpet": [
           {
            "marker": {
             "colorbar": {
              "outlinewidth": 0,
              "ticks": ""
             }
            },
            "type": "scattercarpet"
           }
          ],
          "scattergeo": [
           {
            "marker": {
             "colorbar": {
              "outlinewidth": 0,
              "ticks": ""
             }
            },
            "type": "scattergeo"
           }
          ],
          "scattergl": [
           {
            "marker": {
             "colorbar": {
              "outlinewidth": 0,
              "ticks": ""
             }
            },
            "type": "scattergl"
           }
          ],
          "scattermapbox": [
           {
            "marker": {
             "colorbar": {
              "outlinewidth": 0,
              "ticks": ""
             }
            },
            "type": "scattermapbox"
           }
          ],
          "scatterpolar": [
           {
            "marker": {
             "colorbar": {
              "outlinewidth": 0,
              "ticks": ""
             }
            },
            "type": "scatterpolar"
           }
          ],
          "scatterpolargl": [
           {
            "marker": {
             "colorbar": {
              "outlinewidth": 0,
              "ticks": ""
             }
            },
            "type": "scatterpolargl"
           }
          ],
          "scatterternary": [
           {
            "marker": {
             "colorbar": {
              "outlinewidth": 0,
              "ticks": ""
             }
            },
            "type": "scatterternary"
           }
          ],
          "surface": [
           {
            "colorbar": {
             "outlinewidth": 0,
             "ticks": ""
            },
            "colorscale": [
             [
              0,
              "#0d0887"
             ],
             [
              0.1111111111111111,
              "#46039f"
             ],
             [
              0.2222222222222222,
              "#7201a8"
             ],
             [
              0.3333333333333333,
              "#9c179e"
             ],
             [
              0.4444444444444444,
              "#bd3786"
             ],
             [
              0.5555555555555556,
              "#d8576b"
             ],
             [
              0.6666666666666666,
              "#ed7953"
             ],
             [
              0.7777777777777778,
              "#fb9f3a"
             ],
             [
              0.8888888888888888,
              "#fdca26"
             ],
             [
              1,
              "#f0f921"
             ]
            ],
            "type": "surface"
           }
          ],
          "table": [
           {
            "cells": {
             "fill": {
              "color": "#EBF0F8"
             },
             "line": {
              "color": "white"
             }
            },
            "header": {
             "fill": {
              "color": "#C8D4E3"
             },
             "line": {
              "color": "white"
             }
            },
            "type": "table"
           }
          ]
         },
         "layout": {
          "annotationdefaults": {
           "arrowcolor": "#2a3f5f",
           "arrowhead": 0,
           "arrowwidth": 1
          },
          "autotypenumbers": "strict",
          "coloraxis": {
           "colorbar": {
            "outlinewidth": 0,
            "ticks": ""
           }
          },
          "colorscale": {
           "diverging": [
            [
             0,
             "#8e0152"
            ],
            [
             0.1,
             "#c51b7d"
            ],
            [
             0.2,
             "#de77ae"
            ],
            [
             0.3,
             "#f1b6da"
            ],
            [
             0.4,
             "#fde0ef"
            ],
            [
             0.5,
             "#f7f7f7"
            ],
            [
             0.6,
             "#e6f5d0"
            ],
            [
             0.7,
             "#b8e186"
            ],
            [
             0.8,
             "#7fbc41"
            ],
            [
             0.9,
             "#4d9221"
            ],
            [
             1,
             "#276419"
            ]
           ],
           "sequential": [
            [
             0,
             "#0d0887"
            ],
            [
             0.1111111111111111,
             "#46039f"
            ],
            [
             0.2222222222222222,
             "#7201a8"
            ],
            [
             0.3333333333333333,
             "#9c179e"
            ],
            [
             0.4444444444444444,
             "#bd3786"
            ],
            [
             0.5555555555555556,
             "#d8576b"
            ],
            [
             0.6666666666666666,
             "#ed7953"
            ],
            [
             0.7777777777777778,
             "#fb9f3a"
            ],
            [
             0.8888888888888888,
             "#fdca26"
            ],
            [
             1,
             "#f0f921"
            ]
           ],
           "sequentialminus": [
            [
             0,
             "#0d0887"
            ],
            [
             0.1111111111111111,
             "#46039f"
            ],
            [
             0.2222222222222222,
             "#7201a8"
            ],
            [
             0.3333333333333333,
             "#9c179e"
            ],
            [
             0.4444444444444444,
             "#bd3786"
            ],
            [
             0.5555555555555556,
             "#d8576b"
            ],
            [
             0.6666666666666666,
             "#ed7953"
            ],
            [
             0.7777777777777778,
             "#fb9f3a"
            ],
            [
             0.8888888888888888,
             "#fdca26"
            ],
            [
             1,
             "#f0f921"
            ]
           ]
          },
          "colorway": [
           "#636efa",
           "#EF553B",
           "#00cc96",
           "#ab63fa",
           "#FFA15A",
           "#19d3f3",
           "#FF6692",
           "#B6E880",
           "#FF97FF",
           "#FECB52"
          ],
          "font": {
           "color": "#2a3f5f"
          },
          "geo": {
           "bgcolor": "white",
           "lakecolor": "white",
           "landcolor": "#E5ECF6",
           "showlakes": true,
           "showland": true,
           "subunitcolor": "white"
          },
          "hoverlabel": {
           "align": "left"
          },
          "hovermode": "closest",
          "mapbox": {
           "style": "light"
          },
          "paper_bgcolor": "white",
          "plot_bgcolor": "#E5ECF6",
          "polar": {
           "angularaxis": {
            "gridcolor": "white",
            "linecolor": "white",
            "ticks": ""
           },
           "bgcolor": "#E5ECF6",
           "radialaxis": {
            "gridcolor": "white",
            "linecolor": "white",
            "ticks": ""
           }
          },
          "scene": {
           "xaxis": {
            "backgroundcolor": "#E5ECF6",
            "gridcolor": "white",
            "gridwidth": 2,
            "linecolor": "white",
            "showbackground": true,
            "ticks": "",
            "zerolinecolor": "white"
           },
           "yaxis": {
            "backgroundcolor": "#E5ECF6",
            "gridcolor": "white",
            "gridwidth": 2,
            "linecolor": "white",
            "showbackground": true,
            "ticks": "",
            "zerolinecolor": "white"
           },
           "zaxis": {
            "backgroundcolor": "#E5ECF6",
            "gridcolor": "white",
            "gridwidth": 2,
            "linecolor": "white",
            "showbackground": true,
            "ticks": "",
            "zerolinecolor": "white"
           }
          },
          "shapedefaults": {
           "line": {
            "color": "#2a3f5f"
           }
          },
          "ternary": {
           "aaxis": {
            "gridcolor": "white",
            "linecolor": "white",
            "ticks": ""
           },
           "baxis": {
            "gridcolor": "white",
            "linecolor": "white",
            "ticks": ""
           },
           "bgcolor": "#E5ECF6",
           "caxis": {
            "gridcolor": "white",
            "linecolor": "white",
            "ticks": ""
           }
          },
          "title": {
           "x": 0.05
          },
          "xaxis": {
           "automargin": true,
           "gridcolor": "white",
           "linecolor": "white",
           "ticks": "",
           "title": {
            "standoff": 15
           },
           "zerolinecolor": "white",
           "zerolinewidth": 2
          },
          "yaxis": {
           "automargin": true,
           "gridcolor": "white",
           "linecolor": "white",
           "ticks": "",
           "title": {
            "standoff": 15
           },
           "zerolinecolor": "white",
           "zerolinewidth": 2
          }
         }
        }
       }
      }
     },
     "metadata": {},
     "output_type": "display_data"
    }
   ],
   "source": [
    "df = pd.DataFrame(np.array([x[:, 0], x[:, 1], y]).T, columns=['x1', 'x2', 'y'])\n",
    "fig = px.scatter_3d(df, x='x1', y='x2', z='y')\n",
    "\n",
    "fig.update_layout(scene = dict(\n",
    "                        xaxis=dict(\n",
    "                            nticks=10, range=[0, 1]\n",
    "                            ), \n",
    "                        yaxis=dict(\n",
    "                            nticks=10, range=[0, 1]\n",
    "                            ),\n",
    "                        )\n",
    "                  )\n",
    "fig.show()"
   ]
  },
  {
   "cell_type": "code",
   "execution_count": 5,
   "metadata": {
    "colab": {},
    "colab_type": "code",
    "id": "S5F3fcVN8Wg6"
   },
   "outputs": [],
   "source": [
    "import matplotlib.pyplot as plt\n",
    "import numpy as np\n",
    "#from mpl_toolkits.mplot3d import Axes3D\n",
    "\n",
    "def plot_figs(fig_num, elev, azim, x, y, weights, bias):\n",
    "    fig = plt.figure(fig_num, figsize=(6, 6))\n",
    "    plt.clf()\n",
    "    #ax = Axes3D(fig, elev=elev, azim=azim)\n",
    "    ax = fig.add_subplot(projection='3d', elev=elev, azim=azim)\n",
    "    ax.scatter(x[:, 0], x[:, 1], y)\n",
    "    ax.plot_surface(np.array([[0, 0], [1, 1]]),\n",
    "                    np.array([[0, 1], [0, 1]]),\n",
    "                    (np.dot(np.array([[0, 0, 1, 1],\n",
    "                                          [0, 1, 0, 1]]).T, weights) + bias).reshape((2, 2)),\n",
    "                    alpha=.5)\n",
    "    ax.set_xlabel('x_1')\n",
    "    ax.set_ylabel('x_2')\n",
    "    ax.set_zlabel('y')\n",
    "    \n",
    "def plot_views(x, y, w, b):\n",
    "    #Generate the different figures from different views\n",
    "    elev = 43.5\n",
    "    azim = -110\n",
    "    plot_figs(1, elev, azim, x, y, w, b[0])\n",
    "\n",
    "    plt.show()"
   ]
  },
  {
   "cell_type": "code",
   "execution_count": 6,
   "metadata": {
    "colab": {},
    "colab_type": "code",
    "id": "8l7XSyJM8Wg8"
   },
   "outputs": [
    {
     "name": "stderr",
     "output_type": "stream",
     "text": [
      "/var/folders/vv/mm_j1lh17m79th1f4htvv0480000gn/T/ipykernel_65017/2100076528.py:1: MatplotlibDeprecationWarning:\n",
      "\n",
      "The seaborn styles shipped by Matplotlib are deprecated since 3.6, as they no longer correspond to the styles shipped by seaborn. However, they will remain available as 'seaborn-v0_8-<style>'. Alternatively, directly use the seaborn API instead.\n",
      "\n"
     ]
    },
    {
     "data": {
      "image/png": "[encoded data removed]",
      "text/plain": [
       "<Figure size 600x600 with 1 Axes>"
      ]
     },
     "metadata": {},
     "output_type": "display_data"
    }
   ],
   "source": [
    "plt.style.use('seaborn-whitegrid')\n",
    "plot_views(x, y, w_source, b_source)"
   ]
  },
  {
   "attachments": {},
   "cell_type": "markdown",
   "metadata": {
    "colab_type": "text",
    "id": "FCZAMgQn8Wg9"
   },
   "source": [
    "In vector form, we define:\n",
    "$$\n",
    "\\hat{y}_t = {\\bf w}^T{\\bf x}_t+b\n",
    "$$\n",
    "and we want to minimize the loss given by:\n",
    "$$\n",
    "loss = \\sum_t\\underbrace{\\left(\\hat{y}_t-y_t \\right)^2}_{loss_t}.\n",
    "$$\n",
    "\n",
    "To minimize the loss we first compute the gradient of each $loss_t$:\n",
    "$$\n",
    "\\frac{\\partial{loss_t}}{\\partial w^1} = 2x^1_t\\left({\\bf w}^T{\\bf x}_t+b-y_t \\right)\\\\\n",
    "\\frac{\\partial{loss_t}}{\\partial w^2} = 2x^2_t\\left({\\bf w}^T{\\bf x}_t+b-y_t \\right)\\\\\n",
    "\\frac{\\partial{loss_t}}{\\partial b} = 2\\left({\\bf w}^T{\\bf x}_t+b-y_t \\right)\n",
    "$$\n",
    "\n",
    "Note that the actual gradient of the loss is given by:\n",
    "$$\n",
    "\\frac{\\partial{loss}}{\\partial w^1} =\\sum_t \\frac{\\partial{loss_t}}{\\partial w^1},\\quad\n",
    "\\frac{\\partial{loss}}{\\partial w^2} =\\sum_t \\frac{\\partial{loss_t}}{\\partial w^2},\\quad\n",
    "\\frac{\\partial{loss}}{\\partial b} =\\sum_t \\frac{\\partial{loss_t}}{\\partial b}\n",
    "$$\n",
    "\n",
    "For one epoch, **(Batch) Gradient Descent** updates the weights and bias as follows:\n",
    "$$\n",
    "w^1_{new} = w^1_{old}-\\alpha\\frac{\\partial{loss}}{\\partial w^1} \\\\\n",
    "w^2_{new} = w^2_{old}-\\alpha\\frac{\\partial{loss}}{\\partial w^2} \\\\\n",
    "b_{new} = b_{old}-\\alpha\\frac{\\partial{loss}}{\\partial b},\n",
    "$$\n",
    "\n",
    "and then we run several epochs."
   ]
  },
  {
   "cell_type": "code",
   "execution_count": 7,
   "metadata": {
    "colab": {},
    "colab_type": "code",
    "id": "q2eUfQws8WhA"
   },
   "outputs": [
    {
     "name": "stdout",
     "output_type": "stream",
     "text": [
      "initial values of the parameters: [0.10306341 0.76151463] [0.07219365]\n"
     ]
    }
   ],
   "source": [
    "# randomly initialize learnable weights and bias\n",
    "w_init = random(2)\n",
    "b_init = random(1)\n",
    "\n",
    "w = w_init\n",
    "b = b_init\n",
    "print(\"initial values of the parameters:\", w, b )"
   ]
  },
  {
   "cell_type": "code",
   "execution_count": 65,
   "metadata": {
    "colab": {},
    "colab_type": "code",
    "id": "z1kUBCujB_jk",
    "scrolled": true
   },
   "outputs": [
    {
     "name": "stdout",
     "output_type": "stream",
     "text": [
      "initial loss: 0.10077604412187319\n"
     ]
    },
    {
     "name": "stderr",
     "output_type": "stream",
     "text": [
      " 21%|██        | 21/100 [00:00<00:00, 207.28it/s]"
     ]
    },
    {
     "name": "stdout",
     "output_type": "stream",
     "text": [
      "progress: epoch: 0 loss 0.10077604412187326\n",
      "progress: epoch: 10 loss 2579937472061576.0\n",
      "progress: epoch: 20 loss 3.644611874352588e+33\n",
      "progress: epoch: 30 loss 5.1486502516115636e+51\n",
      "progress: epoch: 40 loss 7.273366911841209e+69\n"
     ]
    },
    {
     "name": "stderr",
     "output_type": "stream",
     "text": [
      "100%|██████████| 100/100 [00:00<00:00, 229.50it/s]"
     ]
    },
    {
     "name": "stdout",
     "output_type": "stream",
     "text": [
      "progress: epoch: 50 loss 1.0274899954159385e+88\n",
      "progress: epoch: 60 loss 1.4515089139269016e+106\n",
      "progress: epoch: 70 loss 2.0505096269636747e+124\n",
      "progress: epoch: 80 loss 2.8967026588184323e+142\n",
      "progress: epoch: 90 loss 4.092097975677752e+160\n",
      "estimation of the parameters: [-4.74505449e+87 -4.71782402e+87] [-9.08478793e+87]\n"
     ]
    },
    {
     "name": "stderr",
     "output_type": "stream",
     "text": [
      "\n"
     ]
    }
   ],
   "source": [
    "# our model forward pass\n",
    "def forward(x):\n",
    "    return x.dot(w)+b\n",
    "\n",
    "# Loss function\n",
    "def loss(x, y):\n",
    "    y_pred = forward(x)\n",
    "    return (y_pred - y)**2 \n",
    "\n",
    "print(\"initial loss:\", np.sum([loss(x_val,y_val) for x_val, y_val in zip(x, y)]) )\n",
    "\n",
    "# compute gradient\n",
    "def gradient(x, y):  # d_loss/d_w, d_loss/d_c\n",
    "    return 2 * (x.dot(w)+b - y) * x, 2 * (x.dot(w)+b - y)\n",
    "\n",
    "# shouldn't you like normalize the data first lol?\n",
    "learning_rate = 1e-2\n",
    "\n",
    "# Training loop\n",
    "for epoch in tqdm(range(100)):\n",
    "    grad_w = np.array([0,0])\n",
    "    grad_b = np.array(0)\n",
    "    l = 0\n",
    "    for x_val, y_val in zip(x, y):\n",
    "        grad_w = np.add(grad_w, gradient(x_val, y_val)[0])\n",
    "        grad_b = np.add(grad_b, gradient(x_val, y_val)[1])\n",
    "        l += loss(x_val, y_val)\n",
    "    w = w - learning_rate * grad_w\n",
    "    b = b - learning_rate * grad_b\n",
    "    if (epoch%10 == 0):\n",
    "        print(\"progress:\", \"epoch:\", epoch, \"loss\",l[0])\n",
    "\n",
    "# After training\n",
    "print(\"estimation of the parameters:\", w, b)"
   ]
  },
  {
   "cell_type": "code",
   "execution_count": 9,
   "metadata": {
    "colab": {},
    "colab_type": "code",
    "id": "BO_DKaes8WhB"
   },
   "outputs": [
    {
     "data": {
      "image/png": "[encoded data removed]",
      "text/plain": [
       "<Figure size 600x600 with 1 Axes>"
      ]
     },
     "metadata": {},
     "output_type": "display_data"
    }
   ],
   "source": [
    "plot_views(x, y, w, b)  # Looks ligid compared with the actual plane ()"
   ]
  },
  {
   "attachments": {},
   "cell_type": "markdown",
   "metadata": {
    "colab_type": "text",
    "id": "dQz2GoXh8WhC"
   },
   "source": [
    "## Linear regression with tensors\n",
    "\n",
    "[Video timestamp](https://youtu.be/Z6H3zakmn6E?t=1650)"
   ]
  },
  {
   "cell_type": "code",
   "execution_count": 10,
   "metadata": {
    "colab": {},
    "colab_type": "code",
    "id": "9KKfUKVn8WhD"
   },
   "outputs": [],
   "source": [
    "dtype = torch.FloatTensor\n",
    "# dtype = torch.cuda.FloatTensor # Uncomment this to run on GPU"
   ]
  },
  {
   "cell_type": "code",
   "execution_count": 11,
   "metadata": {
    "colab": {},
    "colab_type": "code",
    "id": "aLQeUOFi8WhF"
   },
   "outputs": [],
   "source": [
    "x_t = torch.from_numpy(x).type(dtype)\n",
    "y_t = torch.from_numpy(y).type(dtype).unsqueeze(1)"
   ]
  },
  {
   "cell_type": "code",
   "execution_count": 12,
   "metadata": {},
   "outputs": [
    {
     "data": {
      "text/plain": [
       "tensor([ 0.9793,  2.1202,  1.5316, -0.2224,  0.0366])"
      ]
     },
     "metadata": {},
     "output_type": "display_data"
    },
    {
     "data": {
      "text/plain": [
       "tensor([[ 0.9793],\n",
       "        [ 2.1202],\n",
       "        [ 1.5316],\n",
       "        [-0.2224],\n",
       "        [ 0.0366]])"
      ]
     },
     "metadata": {},
     "output_type": "display_data"
    }
   ],
   "source": [
    "display(torch.from_numpy(y).type(dtype)[:5])\n",
    "display(y_t[:5])"
   ]
  },
  {
   "attachments": {},
   "cell_type": "markdown",
   "metadata": {
    "colab_type": "text",
    "id": "1MExDafv8WhG"
   },
   "source": [
    "This is an implementation of **(Batch) Gradient Descent** with tensors.\n",
    "\n",
    "Note that in the main loop, the functions loss_t and gradient_t are always called with the same inputs: they can easily be incorporated into the loop (we'll do that below)."
   ]
  },
  {
   "cell_type": "code",
   "execution_count": 13,
   "metadata": {
    "colab": {},
    "colab_type": "code",
    "id": "5tWn-6PC8WhH"
   },
   "outputs": [
    {
     "name": "stdout",
     "output_type": "stream",
     "text": [
      "initial values of the parameters: tensor([[0.1031],\n",
      "        [0.7615]]) tensor([[0.0722]])\n"
     ]
    }
   ],
   "source": [
    "w_init_t = torch.from_numpy(w_init).type(dtype)\n",
    "b_init_t = torch.from_numpy(b_init).type(dtype)\n",
    "\n",
    "w_t = w_init_t.clone()\n",
    "w_t.unsqueeze_(1)\n",
    "b_t = b_init_t.clone()\n",
    "b_t.unsqueeze_(1)\n",
    "print(\"initial values of the parameters:\", w_t, b_t )"
   ]
  },
  {
   "cell_type": "code",
   "execution_count": 14,
   "metadata": {
    "colab": {},
    "colab_type": "code",
    "id": "7ovfMuTVB_jr"
   },
   "outputs": [
    {
     "name": "stderr",
     "output_type": "stream",
     "text": [
      "100%|██████████| 100/100 [00:00<00:00, 10868.61it/s]"
     ]
    },
    {
     "name": "stdout",
     "output_type": "stream",
     "text": [
      "progress: epoch: 0 loss tensor(39.5101)\n",
      "progress: epoch: 10 loss tensor(16.5068)\n",
      "progress: epoch: 20 loss tensor(7.0474)\n",
      "progress: epoch: 30 loss tensor(3.0170)\n",
      "progress: epoch: 40 loss tensor(1.2957)\n",
      "progress: epoch: 50 loss tensor(0.5584)\n",
      "progress: epoch: 60 loss tensor(0.2417)\n",
      "progress: epoch: 70 loss tensor(0.1051)\n",
      "progress: epoch: 80 loss tensor(0.0459)\n",
      "progress: epoch: 90 loss tensor(0.0202)\n",
      "estimation of the parameters: tensor([[ 1.9890],\n",
      "        [-2.9398]]) tensor([[0.9720]])\n"
     ]
    },
    {
     "name": "stderr",
     "output_type": "stream",
     "text": [
      "\n"
     ]
    }
   ],
   "source": [
    "# our model forward pass\n",
    "def forward_t(x):\n",
    "    return x.mm(w_t)+b_t\n",
    "\n",
    "# Loss function\n",
    "def loss_t(x, y):\n",
    "    y_pred = forward_t(x)\n",
    "    return (y_pred - y).pow(2).sum()\n",
    "\n",
    "# compute gradient\n",
    "def gradient_t(x, y):  # d_loss/d_w, d_loss/d_c\n",
    "    # torch.mm performes matrix multiplication\n",
    "    return 2*torch.mm(torch.t(x), x.mm(w_t) + b_t - y), 2 * (x.mm(w_t)+b_t - y).sum()\n",
    "\n",
    "learning_rate = 1e-2\n",
    "for epoch in tqdm(range(100)):\n",
    "    l_t = loss_t(x_t,y_t)\n",
    "    grad_w, grad_b = gradient_t(x_t,y_t)\n",
    "    w_t = w_t-learning_rate*grad_w\n",
    "    b_t = b_t-learning_rate*grad_b\n",
    "    if (epoch%10 == 0):\n",
    "        print(\"progress:\", \"epoch:\", epoch, \"loss\",l_t)\n",
    "\n",
    "# After training\n",
    "print(\"estimation of the parameters:\", w_t, b_t )"
   ]
  },
  {
   "cell_type": "code",
   "execution_count": 15,
   "metadata": {},
   "outputs": [
    {
     "data": {
      "image/png": "[encoded data removed]",
      "text/plain": [
       "<Figure size 600x600 with 1 Axes>"
      ]
     },
     "metadata": {},
     "output_type": "display_data"
    }
   ],
   "source": [
    "plot_views(x, y, w_t.numpy(), b_t.numpy())"
   ]
  },
  {
   "attachments": {},
   "cell_type": "markdown",
   "metadata": {
    "colab_type": "text",
    "id": "bTrqi-ux8WhJ"
   },
   "source": [
    "## Linear regression with Autograd\n",
    "\n",
    "[Video timestamp](https://youtu.be/Z6H3zakmn6E?t=1890)"
   ]
  },
  {
   "cell_type": "code",
   "execution_count": 19,
   "metadata": {
    "colab": {},
    "colab_type": "code",
    "id": "LTH6VOMz8WhJ"
   },
   "outputs": [
    {
     "name": "stdout",
     "output_type": "stream",
     "text": [
      "initial values of the parameters: tensor([[0.1031],\n",
      "        [0.7615]]) tensor([[0.0722]])\n"
     ]
    }
   ],
   "source": [
    "# Setting requires_grad=True indicates that we want to compute gradients with\n",
    "# respect to these Tensors during the backward pass.\n",
    "w_v = w_init_t.clone().unsqueeze(1)\n",
    "w_v.requires_grad_(True)\n",
    "b_v = b_init_t.clone().unsqueeze(1)\n",
    "b_v.requires_grad_(True)\n",
    "print(\"initial values of the parameters:\", w_v.data, b_v.data )"
   ]
  },
  {
   "attachments": {},
   "cell_type": "markdown",
   "metadata": {
    "colab_type": "text",
    "id": "oHgm3N8Y8WhK"
   },
   "source": [
    "An implementation of **(Batch) Gradient Descent** without computing explicitly the gradient and using autograd instead."
   ]
  },
  {
   "cell_type": "code",
   "execution_count": 20,
   "metadata": {
    "colab": {},
    "colab_type": "code",
    "id": "B4sdOF0e8WhL"
   },
   "outputs": [
    {
     "name": "stdout",
     "output_type": "stream",
     "text": [
      "progress: epoch: 0 loss 39.51013946533203\n",
      "progress: epoch: 10 loss 16.50678253173828\n",
      "progress: epoch: 20 loss 7.047398567199707\n",
      "progress: epoch: 30 loss 3.017026424407959\n",
      "progress: epoch: 40 loss 1.295668125152588\n",
      "progress: epoch: 50 loss 0.5584335923194885\n",
      "progress: epoch: 60 loss 0.24167117476463318\n",
      "progress: epoch: 70 loss 0.10507074743509293\n",
      "progress: epoch: 80 loss 0.04591745138168335\n",
      "progress: epoch: 90 loss 0.020181357860565186\n",
      "estimation of the parameters: tensor([[ 1.9890],\n",
      "        [-2.9398]]) tensor([[0.9720]])\n"
     ]
    }
   ],
   "source": [
    "for epoch in range(100):\n",
    "    y_pred = x_t.mm(w_v)+b_v\n",
    "    loss = (y_pred - y_t).pow(2).sum()\n",
    "    \n",
    "    # Use autograd to compute the backward pass. This call will compute the\n",
    "    # gradient of loss with respect to all Variables with requires_grad=True.\n",
    "    # After this call w.grad and b.grad will be tensors holding the gradient\n",
    "    # of the loss with respect to w and b respectively.\n",
    "    loss.backward()\n",
    "    \n",
    "    # Update weights using gradient descent. For this step we just want to mutate\n",
    "    # the values of w_v and b_v in-place; we don't want to build up a computational\n",
    "    # graph for the update steps, so we use the torch.no_grad() context manager\n",
    "    # to prevent PyTorch from building a computational graph for the updates\n",
    "    with torch.no_grad():\n",
    "        w_v -= learning_rate * w_v.grad\n",
    "        b_v -= learning_rate * b_v.grad\n",
    "    \n",
    "    # Manually zero the gradients after updating weights\n",
    "    # otherwise gradients will be acumulated after each .backward()\n",
    "    w_v.grad.zero_()\n",
    "    b_v.grad.zero_()\n",
    "    \n",
    "    if (epoch%10 == 0):\n",
    "        print(\"progress:\", \"epoch:\", epoch, \"loss\",loss.data.item())\n",
    "\n",
    "# After training\n",
    "print(\"estimation of the parameters:\", w_v.data, b_v.data.t() )"
   ]
  },
  {
   "attachments": {},
   "cell_type": "markdown",
   "metadata": {
    "colab_type": "text",
    "id": "W720TY4R8WhN"
   },
   "source": [
    "## Linear regression with neural network\n",
    "\n",
    "[Video timestamp](https://youtu.be/Z6H3zakmn6E?t=2075)"
   ]
  },
  {
   "attachments": {},
   "cell_type": "markdown",
   "metadata": {
    "colab_type": "text",
    "id": "6VgMVkn48WhN"
   },
   "source": [
    "An implementation of **(Batch) Gradient Descent** using the nn package. Here we have a super simple model with only one layer and no activation function!"
   ]
  },
  {
   "cell_type": "code",
   "execution_count": 21,
   "metadata": {
    "colab": {},
    "colab_type": "code",
    "id": "plEHj42d8WhO"
   },
   "outputs": [
    {
     "name": "stdout",
     "output_type": "stream",
     "text": [
      "progress: epoch: 0 loss 39.51013946533203\n",
      "progress: epoch: 1 loss 35.58224105834961\n",
      "progress: epoch: 2 loss 32.66722106933594\n",
      "progress: epoch: 3 loss 29.993200302124023\n",
      "progress: epoch: 4 loss 27.53864860534668\n",
      "progress: epoch: 5 loss 25.28551483154297\n",
      "progress: epoch: 6 loss 23.21723175048828\n",
      "progress: epoch: 7 loss 21.3185977935791\n",
      "progress: epoch: 8 loss 19.575672149658203\n",
      "progress: epoch: 9 loss 17.97564697265625\n",
      "estimation of the parameters:\n",
      "Parameter containing:\n",
      "tensor([[ 0.7816, -0.5605]], requires_grad=True)\n",
      "Parameter containing:\n",
      "tensor([0.2877], requires_grad=True)\n"
     ]
    }
   ],
   "source": [
    "# Use the nn package to define our model as a sequence of layers. nn.Sequential\n",
    "# is a Module which contains other Modules, and applies them in sequence to\n",
    "# produce its output. Each Linear Module computes output from input using a\n",
    "# linear function, and holds internal Variables for its weight and bias.\n",
    "model = torch.nn.Sequential(\n",
    "    torch.nn.Linear(2, 1)   # Linear(in dim, out dim)\n",
    ")\n",
    "\n",
    "for m in model.children():\n",
    "    m.weight.data = w_init_t.clone().unsqueeze(0)\n",
    "    m.bias.data = b_init_t.clone()\n",
    "\n",
    "# The nn package also contains definitions of popular loss functions; in this\n",
    "# case we will use Mean Squared Error (MSE) as our loss function.\n",
    "loss_fn = torch.nn.MSELoss(reduction='sum')\n",
    "\n",
    "# switch to train mode\n",
    "model.train()\n",
    "\n",
    "for epoch in range(10):\n",
    "    # Forward pass: compute predicted y by passing x to the model. Module objects\n",
    "    # override the __call__ operator so you can call them like functions. When\n",
    "    # doing so you pass a Variable of input data to the Module and it produces\n",
    "    # a Variable of output data.\n",
    "    y_pred = model(x_t)\n",
    "  \n",
    "    # Note this operation is equivalent to: pred = model.forward(x_v)\n",
    "\n",
    "    # Compute and print loss. We pass Variables containing the predicted and true\n",
    "    # values of y, and the loss function returns a Variable containing the\n",
    "    # loss.\n",
    "    loss = loss_fn(y_pred, y_t)\n",
    "\n",
    "    # Zero the gradients before running the backward pass.\n",
    "    model.zero_grad()\n",
    "\n",
    "    # Backward pass: compute gradient of the loss with respect to all the learnable\n",
    "    # parameters of the model. Internally, the parameters of each Module are stored\n",
    "    # in Variables with requires_grad=True, so this call will compute gradients for\n",
    "    # all learnable parameters in the model.\n",
    "    loss.backward()\n",
    "\n",
    "    # Update the weights using gradient descent. Each parameter is a Tensor, so\n",
    "    # we can access its data and gradients like we did before.\n",
    "    with torch.no_grad():\n",
    "        for param in model.parameters():\n",
    "            param.data -= learning_rate * param.grad\n",
    "        \n",
    "    print(\"progress:\", \"epoch:\", epoch, \"loss\",loss.data.item())\n",
    "\n",
    "# After training\n",
    "print(\"estimation of the parameters:\")\n",
    "for param in model.parameters():\n",
    "    print(param)"
   ]
  },
  {
   "attachments": {},
   "cell_type": "markdown",
   "metadata": {
    "colab_type": "text",
    "id": "gus-YF9p8WhP"
   },
   "source": [
    "Last step, we use directly the optim package to update the weights and bias.\n",
    "\n",
    "[Video timestamp](https://youtu.be/Z6H3zakmn6E?t=2390)"
   ]
  },
  {
   "cell_type": "code",
   "execution_count": 25,
   "metadata": {
    "colab": {},
    "colab_type": "code",
    "id": "2VbF5gYV8WhP"
   },
   "outputs": [
    {
     "name": "stdout",
     "output_type": "stream",
     "text": [
      "progress: epoch: 0 loss 39.51013946533203\n",
      "progress: epoch: 1 loss 35.58224105834961\n",
      "progress: epoch: 2 loss 32.66722106933594\n",
      "progress: epoch: 3 loss 29.993200302124023\n",
      "progress: epoch: 4 loss 27.538646697998047\n",
      "progress: epoch: 5 loss 25.28551483154297\n",
      "progress: epoch: 6 loss 23.21723175048828\n",
      "progress: epoch: 7 loss 21.3185977935791\n",
      "progress: epoch: 8 loss 19.57567024230957\n",
      "progress: epoch: 9 loss 17.97564697265625\n",
      "estimation of the parameters:\n",
      "Parameter containing:\n",
      "tensor([[ 0.7816, -0.5605]], requires_grad=True)\n",
      "Parameter containing:\n",
      "tensor([0.2877], requires_grad=True)\n"
     ]
    }
   ],
   "source": [
    "model = torch.nn.Sequential(\n",
    "    torch.nn.Linear(2, 1),\n",
    ")\n",
    "\n",
    "for m in model.children():\n",
    "    m.weight.data = w_init_t.clone().unsqueeze(0)\n",
    "    m.bias.data = b_init_t.clone()\n",
    "\n",
    "loss_fn = torch.nn.MSELoss(reduction='sum')\n",
    "\n",
    "model.train()\n",
    "\n",
    "# model.parameters() returns address\n",
    "optimizer = torch.optim.SGD(model.parameters(), lr=learning_rate)\n",
    "\n",
    "\n",
    "for epoch in range(10):\n",
    "    y_pred = model(x_t)\n",
    "    loss = loss_fn(y_pred, y_t)\n",
    "    print(\"progress:\", \"epoch:\", epoch, \"loss\",loss.item())\n",
    "    # Zero gradients, perform a backward pass, and update the weights.\n",
    "    optimizer.zero_grad()\n",
    "    loss.backward()\n",
    "    optimizer.step()\n",
    "    \n",
    "    \n",
    "# After training\n",
    "print(\"estimation of the parameters:\")\n",
    "for param in model.parameters():\n",
    "    print(param)"
   ]
  },
  {
   "attachments": {},
   "cell_type": "markdown",
   "metadata": {
    "colab_type": "text",
    "id": "vFxayCILB_j2"
   },
   "source": [
    "## Remark\n",
    "\n",
    "This problem can be solved in 3 lines of code!"
   ]
  },
  {
   "cell_type": "code",
   "execution_count": 26,
   "metadata": {
    "colab": {},
    "colab_type": "code",
    "id": "6q9sz3M8B_j2"
   },
   "outputs": [
    {
     "data": {
      "text/plain": [
       "tensor([[ 2.0000],\n",
       "        [-3.0000],\n",
       "        [ 1.0000]])"
      ]
     },
     "execution_count": 26,
     "metadata": {},
     "output_type": "execute_result"
    }
   ],
   "source": [
    "xb_t = torch.cat((x_t,torch.ones(30).unsqueeze(1)),1)\n",
    "# for old version of pytorch\n",
    "#sol, _ =torch.lstsq(y_t,xb_t)\n",
    "#sol[:3]\n",
    "# for pytorch 1.9 and newer\n",
    "sol = torch.linalg.lstsq(xb_t,y_t)\n",
    "sol.solution"
   ]
  },
  {
   "attachments": {},
   "cell_type": "markdown",
   "metadata": {
    "colab_type": "text",
    "id": "IY_I9v3o8WhQ"
   },
   "source": [
    "## Exercise: Play with the code"
   ]
  },
  {
   "attachments": {},
   "cell_type": "markdown",
   "metadata": {
    "colab_type": "text",
    "id": "It_tRuXs8WhQ"
   },
   "source": [
    "Change the number of samples from 30 to 300. What happens? How to correct it?"
   ]
  },
  {
   "cell_type": "code",
   "execution_count": 29,
   "metadata": {
    "colab": {},
    "colab_type": "code",
    "id": "JRk1zgSv8WhR"
   },
   "outputs": [],
   "source": [
    "x = random((300,2))\n",
    "y = np.dot(x, [2., -3.]) + 1.\n",
    "x_t = torch.from_numpy(x).type(dtype)\n",
    "y_t = torch.from_numpy(y).type(dtype).unsqueeze(1)"
   ]
  },
  {
   "cell_type": "code",
   "execution_count": 36,
   "metadata": {},
   "outputs": [
    {
     "data": {
      "application/vnd.plotly.v1+json": {
       "config": {
        "plotlyServerURL": "https://plot.ly"
       },
       "data": [
        {
         "hovertemplate": "x1=%{x}<br>x2=%{y}<br>y=%{z}<extra></extra>",
         "legendgroup": "",
         "marker": {
          "color": "#636efa",
          "symbol": "circle"
         },
         "mode": "markers",
         "name": "",
         "scene": "scene",
         "showlegend": false,
         "type": "scatter3d",
         "x": [
          0.9591408478975032,
          0.5503803921551114,
          0.6278789410763366,
          0.9620644714436141,
          0.47807881326269974,
          0.12722998581079514,
          0.9204215242353121,
          0.32322311637921686,
          0.7920103685898632,
          0.7473688551613575,
          0.1962454475650055,
          0.7570785945789341,
          0.09244572450007593,
          0.9283593988086002,
          0.1026945505501825,
          0.5561538342602403,
          0.0401170160547305,
          0.34200971118074286,
          0.5225316855824872,
          0.5444652425225217,
          0.27352917741065874,
          0.5757093392927178,
          0.7319082405078542,
          0.8686750043963918,
          0.8229876323991774,
          0.44589035330158033,
          0.24122673159033137,
          0.6142080411574151,
          0.49589582022990153,
          0.9816973381114074,
          0.4561613832672172,
          0.30574868433903213,
          0.9344537814690437,
          0.27830245495798234,
          0.9491962301520886,
          0.12088243398424459,
          0.23021388920437236,
          0.062218899500603886,
          0.7791148829914221,
          0.588336632988302,
          0.5410300204768278,
          0.5661919244033291,
          0.5277735070073137,
          0.9989822863337556,
          0.02638054538918344,
          0.7105705624622438,
          0.7207525032835491,
          0.005673857261622062,
          0.44415267229872357,
          0.33154511785732543,
          0.6369198856303991,
          0.5837590697429428,
          0.7287012994454011,
          0.3830536927940208,
          0.1423549968592842,
          0.2223142145489886,
          0.8428907345163449,
          0.3128034381780459,
          0.8281297569683507,
          0.9403068345432546,
          0.5717423880154493,
          0.83883008977828,
          0.8302001072903912,
          0.2660374336748206,
          0.9149080106202176,
          0.989442367877636,
          0.8890468263742383,
          0.9083825789635065,
          0.2801107237186412,
          0.7016964134174403,
          0.48958563796301524,
          0.9258994589104179,
          0.21146690720043526,
          0.46840226741762003,
          0.6990751138838931,
          0.35681639574284474,
          0.4141242847139396,
          0.9462071252877908,
          0.8454951771056236,
          0.35910094269129766,
          0.5543370835165053,
          0.22258857712578362,
          0.8204087554604743,
          0.41460898778202115,
          0.008706363588563804,
          0.6394790163377948,
          0.065382553048422,
          0.12689756339244296,
          0.3298016404052657,
          0.5702521442501429,
          0.1353428799119687,
          0.21135173205581825,
          0.4112688964158703,
          0.9207401809953452,
          0.2144877751109927,
          0.2599417434710424,
          0.9341990635505311,
          0.5338219045017304,
          0.000954316940732336,
          0.6898503410016017,
          0.01471458696556327,
          0.9432392373741803,
          0.14726764972502504,
          0.5651458254320949,
          0.172061947998553,
          0.6227680884504211,
          0.9167181989184787,
          0.12404482934400252,
          0.35778989676906414,
          0.37961234492293117,
          0.9335626379417099,
          0.3967476089628934,
          0.336288008382148,
          0.9027495973191852,
          0.09939250414473932,
          0.40405898873548407,
          0.11413516786636324,
          0.4565728845109126,
          0.3394911278807752,
          0.33933826336187756,
          0.617932810334339,
          0.06453105164130335,
          0.22326404240669895,
          0.014608458769218458,
          0.1893556628680041,
          0.3547747896421216,
          0.9469055152658447,
          0.11016994511534017,
          0.590894364777729,
          0.821259614660818,
          0.9982626645675737,
          0.4728487179606252,
          0.48473402788038145,
          0.714316688791195,
          0.1641019279639666,
          0.21492179938074696,
          0.3926036683706794,
          0.05893849616979696,
          0.2526449365449399,
          0.13181149821264837,
          0.33935316847897146,
          0.18334127429315517,
          0.02766180162750309,
          0.0326504272081658,
          0.7816703805300492,
          0.30371926481899225,
          0.9733214977472237,
          0.7862369282990412,
          0.6407348801018741,
          0.4998288722172578,
          0.07836327605112359,
          0.7721740439673509,
          0.4930354523514565,
          0.27962611782740254,
          0.8750695493869804,
          0.7402172014111559,
          0.982307209191818,
          0.738043389887893,
          0.24695353980104828,
          0.8922134702534866,
          0.24851849310259344,
          0.13457964703013814,
          0.0758993249666966,
          0.08567260591967418,
          0.439624400959309,
          0.7608714863743256,
          0.17139279020750264,
          0.25471476924696446,
          0.15069730234512824,
          0.9939107198489716,
          0.9061239354980767,
          0.5017713621752669,
          0.2778403114236797,
          0.4459843442143495,
          0.6623018204001714,
          0.17850656556507716,
          0.23716237775320748,
          0.11173397214736513,
          0.08526570300872349,
          0.3637345737459,
          0.3548061645146341,
          0.9735389117487453,
          0.8946653799828714,
          0.12051259830327987,
          0.14813789408326405,
          0.692922679622257,
          0.01885707058157915,
          0.48808849159985124,
          0.48859774992974125,
          0.22482931373898585,
          0.8329079668087516,
          0.763266232634354,
          0.10047223907561598,
          0.5765383807412127,
          0.7853984084984843,
          0.2875276536506918,
          0.6481681339889273,
          0.1857943798027516,
          0.7774912868070677,
          0.7004603134510783,
          0.39113432901804834,
          0.2615890860345632,
          0.3647604122109176,
          0.0011903723382880038,
          0.8250269291790561,
          0.3641167474407031,
          0.34392680156868094,
          0.5776662025327314,
          0.3223713961921135,
          0.6427331263836961,
          0.12264695755131849,
          0.8519131110150108,
          0.24517300688560528,
          0.5605360494827474,
          0.6943341514995733,
          0.2805006748056762,
          0.1008212455924935,
          0.39476362347668903,
          0.2033930443362526,
          0.3917501734548746,
          0.26731470295559656,
          0.4498818500350581,
          0.38972400929717343,
          0.9682342431280744,
          0.295142423231584,
          0.27950588783247554,
          0.4241843717418462,
          0.4983669430221427,
          0.06450410528136008,
          0.4288321736420614,
          0.6130645551176279,
          0.04987263028015454,
          0.056069901521594634,
          0.6677065497490118,
          0.056325052028634026,
          0.8242613059492199,
          0.44041120752783924,
          0.4006773650952853,
          0.5728785423016297,
          0.3885268237088696,
          0.7578591898942802,
          0.9521595466529634,
          0.4167251883068084,
          0.9016003931712984,
          0.24732875343949845,
          0.04291129620297918,
          0.016590703644211446,
          0.793229727020672,
          0.09559733303748308,
          0.4536722879799113,
          0.6814365474377349,
          0.8938646435450436,
          0.39061418160241834,
          0.3887086348421418,
          0.8302698423779316,
          0.32666082751554004,
          0.7417319809193605,
          0.7524544568679769,
          0.8947507554736802,
          0.583262055417675,
          0.12089217414245279,
          0.3064801296457297,
          0.8618201740384817,
          0.8847345799362154,
          0.4029376459967351,
          0.9718486275710079,
          0.636905131402188,
          0.6431384747754759,
          0.22090797808793983,
          0.11062049473514834,
          0.9047997245391335,
          0.2677261165062349,
          0.999520226596214,
          0.8340013111076419,
          0.8289578767630101,
          0.6350020757170137,
          0.8625962850743426,
          0.7919264060453376,
          0.9144129429541494,
          0.18611297373927083,
          0.3606131507661312,
          0.6645111775523915,
          0.5966992170456287,
          0.7382761078142732,
          0.7762761150574989,
          0.24258025077120504,
          0.4073696269789253,
          0.665666478949977,
          0.3556809990585792,
          0.13278869696991924,
          0.43634361071715955,
          0.8706919894909351,
          0.8113074584505261,
          0.48104321534070116,
          0.3968644103078697,
          0.6916673319081197,
          0.9608800928238488,
          0.7418826876562713,
          0.6789279704054016,
          0.6372940146780814
         ],
         "y": [
          0.017470700604103606,
          0.971162282035233,
          0.7240921134995215,
          0.4375432304546498,
          0.19857527181820056,
          0.23869104846811984,
          0.6995856582373725,
          0.9538335358534523,
          0.7869841429120836,
          0.3126146461744723,
          0.10287916270997788,
          0.3144608204395255,
          0.14262339714894423,
          0.24549176669617645,
          0.8748279118602781,
          0.3175444852945267,
          0.5472032826375645,
          0.851085595268547,
          0.5016571683713898,
          0.7958215686993505,
          0.6133982898889175,
          0.27610920228761293,
          0.5334879460757017,
          0.1495089880203171,
          0.2630212829782549,
          0.9655550382996211,
          0.4853231564419406,
          0.2957971865588457,
          0.9771146415854486,
          0.9151144377044149,
          0.7580048390838019,
          0.4956206382762176,
          0.2659087951983574,
          0.15989313332027244,
          0.16126066067248657,
          0.4537683282817714,
          0.1383103850840588,
          0.5462094165519581,
          0.4226890743679462,
          0.20662835211116848,
          0.5110744175808178,
          0.03132821527731078,
          0.18831915516705178,
          0.7152795878539646,
          0.0835008605755293,
          0.06996398430980322,
          0.9438887323235274,
          0.15256454004119635,
          0.34601241655277004,
          0.5987440987938719,
          0.5127397012712591,
          0.7304847057672887,
          0.8300581137405646,
          0.0852000712479577,
          0.9798020835496659,
          0.6345602576038963,
          0.5667760303264032,
          0.33346909401355207,
          0.9913474744791715,
          0.09190252167399315,
          0.7592719232424117,
          0.4317132375505419,
          0.9124199621387655,
          0.4944181044547584,
          0.8282669186904191,
          0.24952679387179677,
          0.04217318200098552,
          0.1288185276885282,
          0.5752434024345119,
          0.1950260848374401,
          0.22814889116298753,
          0.03550285535971476,
          0.4218880843037721,
          0.8738610893675933,
          0.7906507992784444,
          0.7113859081530274,
          0.5404853692708718,
          0.22099842109736978,
          0.25161892845795975,
          0.8445195587628307,
          0.7929724221989347,
          0.30343908851277546,
          0.7483367675145423,
          0.5666498528489674,
          0.9480858025364247,
          0.536634147098598,
          0.5170656258732851,
          0.766405772692616,
          0.1309134464420847,
          0.17231212554665387,
          0.9192283818266271,
          0.8776315888623493,
          0.03859268445050967,
          0.2793040236181844,
          0.9012728328075118,
          0.15213025364907373,
          0.7308167810621207,
          0.015520866613473072,
          0.6806284934744358,
          0.30030385655761904,
          0.9349938602245906,
          0.7207608177931052,
          0.12480982479417058,
          0.21538420566128802,
          0.9879960088342088,
          0.4587136373155165,
          0.6453604897506215,
          0.7687630747662064,
          0.959359856521599,
          0.7549521009365715,
          0.07395449020411804,
          0.4145367127469948,
          0.4368852894779899,
          0.7837028483699368,
          0.7837502739787157,
          0.5178529905432891,
          0.3032168987921917,
          0.8874379471266486,
          0.4619581188914076,
          0.3127134066445799,
          0.020793860438097722,
          0.5125763232677818,
          0.25475321590818745,
          0.17943175378777543,
          0.016929946047505973,
          0.09516272730694764,
          0.12508257680089285,
          0.5669130123816749,
          0.45235652599754195,
          0.20755711043209268,
          0.6898395993073864,
          0.5330491133268372,
          0.2985586797448204,
          0.9802524226053564,
          0.11396586284632326,
          0.290889874450725,
          0.3902981598587676,
          0.7004176145666224,
          0.9589975622405661,
          0.6694059070790097,
          0.523542909747392,
          0.51816373668475,
          0.7511366952763494,
          0.37409001406324227,
          0.1876563052326643,
          0.8759747983457778,
          0.8960112194245131,
          0.10040658387702917,
          0.24616941428229877,
          0.3376495188668668,
          0.7715831090983868,
          0.9666757037817182,
          0.42903886045619133,
          0.21921329114851373,
          0.7441248743652135,
          0.295142619712932,
          0.7467510560307097,
          0.45415999517484773,
          0.8617569985819382,
          0.029388258533980083,
          0.04342741761428803,
          0.5330542259132721,
          0.43610902890592584,
          0.4041113602678855,
          0.6930298745167544,
          0.8318194064063653,
          0.9295095681649485,
          0.14339202767315462,
          0.42460520493139,
          0.7333892363873679,
          0.1714173020563844,
          0.024312534233749905,
          0.7927219890918137,
          0.5158652651028877,
          0.2637333203026351,
          0.2030656581184288,
          0.6098835702553609,
          0.5740790333349075,
          0.9036147790144603,
          0.6256050370161946,
          0.024012525255246553,
          0.6546433968846274,
          0.22666934347596535,
          0.6018596974285539,
          0.42172633188332753,
          0.8418733867724517,
          0.3040520153095949,
          0.8505834841564399,
          0.6552976109331211,
          0.6160042288003091,
          0.5355752937589285,
          0.9731034227108071,
          0.47495740676921117,
          0.8190742571301594,
          0.5889478913150619,
          0.4795966645848001,
          0.9480989287551403,
          0.8268671264547734,
          0.5885345792141324,
          0.9874811921904632,
          0.8803581054367567,
          0.8040726735715596,
          0.48546658822554456,
          0.4316111563287488,
          0.2463502552611475,
          0.09940591290997103,
          0.844548569262916,
          0.9642435305435643,
          0.4850268691747667,
          0.7617325924982541,
          0.5291121666448364,
          0.6357714215116501,
          0.35828798210188606,
          0.12802277752363933,
          0.5698615521515338,
          0.27506208507685803,
          0.9486723457704379,
          0.06199346432395503,
          0.3658435215817596,
          0.27372032193017193,
          0.8582301235499822,
          0.7839329562180873,
          0.5516070828789861,
          0.9100251082082876,
          0.5799681600086852,
          0.4199221105076759,
          0.5675131780027758,
          0.3158942676401023,
          0.02793419441824596,
          0.9579320261724783,
          0.16438822141642917,
          0.5161560335828438,
          0.020809994819566247,
          0.22993422966000965,
          0.34456666596919483,
          0.39963602619712113,
          0.5264264997429674,
          0.15834415134976476,
          0.3461838233775777,
          0.3544672402979899,
          0.6727956063290977,
          0.6173077395396023,
          0.2613892430394358,
          0.8271152129204132,
          0.7218208112355913,
          0.9970509784248346,
          0.9386211802102392,
          0.6476031323800661,
          0.3889152644066384,
          0.4404669801839737,
          0.17687361617483088,
          0.744181126947102,
          0.6430350949611622,
          0.6642472690690108,
          0.04665756159536849,
          0.5274767378280275,
          0.7912737040855159,
          0.4548957090279574,
          0.012505512394692109,
          0.48949841360483703,
          0.46787905211155034,
          0.5075657454148602,
          0.3652212675050899,
          0.4861225101504013,
          0.04896947141514718,
          0.008884471948309658,
          0.20442589630501085,
          0.05031762247200178,
          0.36819513811309745,
          0.04724330644549235,
          0.12358154476573457,
          0.49702544652703473,
          0.9200751990177095,
          0.2994945872732656,
          0.8851610476016537,
          0.11060358938599968,
          0.2894049909588954,
          0.697785906961592,
          0.8730785695343991,
          0.9347077615517517,
          0.4853883381798143,
          0.39724668038430044,
          0.650533343730429,
          0.11658479113769837,
          0.11832205316385158,
          0.7094411021675692,
          0.09065387052622342,
          0.34522165158587825,
          0.3235186323588639,
          0.12534543126798892,
          0.3649727552855323,
          0.5607369403806601,
          0.25121164720931755,
          0.3803703298967327,
          0.7872080193869351,
          0.3187000459518643,
          0.9573134729662487,
          0.029393077690725855,
          0.9138182608042166,
          0.5968653908310277
         ],
         "z": [
          2.8658695939826955,
          -0.8127260617954764,
          0.0834815416541086,
          1.6114992515232787,
          1.3604318110707978,
          0.5383868262172308,
          0.7420860737585067,
          -1.2150543748019231,
          0.22306830844347547,
          1.556893771799298,
          1.0838534070000774,
          1.5707747278392916,
          0.7570212575533192,
          2.120243497528671,
          -1.4190946344804694,
          1.1596742126369004,
          -0.5613758158032325,
          -0.8692373634441553,
          0.5400918660508048,
          -0.298534221053008,
          -0.29313651484543524,
          1.323091071722597,
          0.8633526427886032,
          2.2888230447318323,
          1.85691141586359,
          -1.0048844082957027,
          0.026483993854841015,
          1.341024522638293,
          -0.9395522842965427,
          0.21805136310956996,
          -0.36169175071697124,
          0.12463545384941144,
          2.071181177343015,
          1.0769255099551474,
          2.4146104782867175,
          -0.11954011687682486,
          1.0454966231565683,
          -0.5141904506546666,
          1.2901625428790053,
          1.5567882096430985,
          0.5488367882112021,
          2.038399202974726,
          1.4905895485134721,
          0.8521258091056174,
          0.802258509051779,
          2.211249171995078,
          -0.39016119040348407,
          0.5536540943996551,
          0.850268094939137,
          -0.13314206066696488,
          0.7356206674470209,
          -0.02393597781598067,
          -0.03277174233089175,
          1.5105071718441685,
          -1.6546962569304293,
          -0.45905234371371195,
          0.9854533780534801,
          0.6251995943154356,
          -0.3177829095008131,
          2.6049061040645296,
          -0.1343309936963364,
          1.3825204669049342,
          -0.07685967183551412,
          0.04882055398536589,
          0.3450152651691779,
          2.2303043541398817,
          2.65157410674552,
          2.4303095748614285,
          -0.16550875986625324,
          1.8183145723225602,
          1.2947246024370678,
          2.7452903517416916,
          0.15726956148955418,
          -0.6847787332675399,
          0.02619782993245301,
          -0.42052493297339266,
          0.20679246161526388,
          2.229418987283472,
          1.936133568837368,
          -0.8153567909058967,
          -0.27024309956379344,
          0.5348598887132409,
          0.39580720837732186,
          0.1292684170171401,
          -1.8268446804321465,
          0.6690555913797955,
          -0.42043177152301126,
          -1.0454221912929622,
          1.2668629414842774,
          1.6235679118603241,
          -1.486999385655944,
          -1.2101913024754114,
          1.7067597394802116,
          2.003568291136137,
          -1.27484294820055,
          1.0634927259948634,
          0.6759477839147001,
          2.0210812091630417,
          -1.0399768465418426,
          1.4787891123303463,
          -1.7755524067426451,
          0.7241960213690449,
          0.9201058250675384,
          1.4841390338803258,
          -1.6198641305055204,
          0.8693952649542926,
          0.8973549285850928,
          -1.0581995656106145,
          -1.162499776026669,
          -0.5056316129638523,
          2.6452618052710655,
          0.5498850796848025,
          0.3619201483303264,
          0.45439064952856023,
          -1.1524658136466686,
          0.2545590058411007,
          0.31861963935615134,
          -0.7491680723581204,
          0.2931078990873276,
          0.7405363067900154,
          2.173484039354385,
          -0.4086668665207387,
          0.6822684370888356,
          0.49092165617511063,
          1.3279214875934904,
          1.4240613973634004,
          2.518563300129011,
          -0.4803991469143445,
          0.8247191515628323,
          2.019847898025358,
          0.9270065312129884,
          0.3465500959407387,
          1.0737920165263017,
          -0.5121238902336791,
          0.9863062673889634,
          0.5571739754093189,
          0.614312857165056,
          -0.9833758513602735,
          -1.3717028136318183,
          -0.7445947248117324,
          0.1080776077157668,
          -0.18780866146793973,
          -1.198086482574042,
          -0.0569691877733951,
          2.0003718453621055,
          -1.020485865399349,
          0.25860933722090795,
          2.271254104966995,
          1.5429615173568518,
          0.9867091878339153,
          -1.1580227751929133,
          -0.35567902341045277,
          0.698954323334339,
          0.9016123622092639,
          0.5177644756783205,
          1.5950065436835157,
          0.724361250291507,
          1.1136067942512429,
          -1.091363916143718,
          2.696262164905033,
          1.3667547333623227,
          -0.3300033836795402,
          -0.15652843678438444,
          -0.04098886896430809,
          -0.19984082163164496,
          0.02628475352955517,
          -1.44574312407984,
          1.079253455474465,
          0.027578989896086537,
          0.7876537305358396,
          2.2979959648270003,
          1.9306051216492839,
          -0.8224853444280815,
          0.34437289312003605,
          1.5334036798924375,
          0.7478161567748679,
          -0.3553259552596677,
          -0.49876915570999225,
          -1.5403129310259338,
          -0.14934596355678398,
          1.6375747532635285,
          0.9831476328436085,
          2.1093227295378467,
          -0.5645538956791021,
          0.031096792516545513,
          -0.13977480107284124,
          0.12555809523437356,
          -0.5755734692696173,
          0.011302667060119176,
          -0.3983540589229557,
          1.0590900523407174,
          -0.3927778028637132,
          -0.22392774215640143,
          -0.30414600990805285,
          0.803953143051783,
          0.13626531354698324,
          -0.5479605182875664,
          -1.109012619758817,
          0.7893788359717381,
          -0.5615229496692329,
          -0.8588056582741737,
          -0.8890398486455524,
          0.2731210597452015,
          -0.2924527243096704,
          1.9110030925746697,
          1.430015756151493,
          -0.8457921046513861,
          -0.7373981865652302,
          0.18966218485992703,
          0.0002684752726298534,
          -0.3420425848318722,
          0.7965119574950712,
          0.4154820674655524,
          1.7370037663945768,
          0.6790836465445453,
          0.7358150943807783,
          -1.6443745461263268,
          1.603546853981513,
          0.30925552392722644,
          0.9623393811192335,
          -1.0400609647387533,
          -0.4520351685841457,
          0.12462676995738864,
          0.20639316163128585,
          -0.14961963356288766,
          0.29924544414192333,
          0.14582920947536504,
          1.0490510831239783,
          1.0452056273079822,
          -1.0161317312333122,
          1.7329644459859683,
          -0.44872284018822217,
          1.0497098185844904,
          1.6456104105179947,
          0.07895010614968356,
          1.4496145333070762,
          0.3015429158267763,
          1.3263222761412763,
          1.1072056144705265,
          0.7136519265237694,
          0.4973315608012673,
          1.05239587468712,
          1.0492826474953094,
          0.321855147581357,
          -0.6708049268277769,
          -1.9053303428685453,
          -1.7826821333422949,
          0.6436500569011457,
          0.02444887285505104,
          0.5859436354079016,
          1.832252246350977,
          0.5551859062487811,
          -0.14787692167864996,
          -0.21532453752274883,
          2.5205669999697577,
          0.07089144154699756,
          0.10964284958217341,
          1.1402217866520816,
          2.751984973763284,
          0.6980288700208388,
          -0.16185280804974544,
          0.09026302304687872,
          1.6279765455616937,
          1.311101629421227,
          1.6589668777480286,
          2.9170438392970865,
          1.6605325738893435,
          2.1353240821349466,
          0.3372305418365873,
          1.0795110701338198,
          2.438854814781063,
          0.04437589343136561,
          0.23881485613929943,
          1.769518860395487,
          0.0024326107210591585,
          1.9381933832760283,
          1.856977597271999,
          0.49049509120589907,
          0.20959017730510154,
          -1.4318973371767134,
          0.2650612869928195,
          1.1372823139518817,
          0.24179840289997023,
          2.1267978422154514,
          2.1975860706234434,
          -0.6431628049602973,
          1.5427776423791804,
          1.2956680031423193,
          0.7408061010405667,
          0.8895411001358717,
          0.7777689555777222,
          1.0591731578398897,
          1.8689799752730996,
          0.8209754409912042,
          -0.5678952375450659,
          1.4272345259606465,
          0.0498197667489515,
          2.395586142240365,
          -0.38359884160184654,
          0.48399185686307966
         ]
        }
       ],
       "layout": {
        "legend": {
         "tracegroupgap": 0
        },
        "margin": {
         "t": 60
        },
        "scene": {
         "domain": {
          "x": [
           0,
           1
          ],
          "y": [
           0,
           1
          ]
         },
         "xaxis": {
          "nticks": 10,
          "range": [
           0,
           1
          ],
          "title": {
           "text": "x1"
          }
         },
         "yaxis": {
          "nticks": 10,
          "range": [
           0,
           1
          ],
          "title": {
           "text": "x2"
          }
         },
         "zaxis": {
          "title": {
           "text": "y"
          }
         }
        },
        "template": {
         "data": {
          "bar": [
           {
            "error_x": {
             "color": "#2a3f5f"
            },
            "error_y": {
             "color": "#2a3f5f"
            },
            "marker": {
             "line": {
              "color": "#E5ECF6",
              "width": 0.5
             },
             "pattern": {
              "fillmode": "overlay",
              "size": 10,
              "solidity": 0.2
             }
            },
            "type": "bar"
           }
          ],
          "barpolar": [
           {
            "marker": {
             "line": {
              "color": "#E5ECF6",
              "width": 0.5
             },
             "pattern": {
              "fillmode": "overlay",
              "size": 10,
              "solidity": 0.2
             }
            },
            "type": "barpolar"
           }
          ],
          "carpet": [
           {
            "aaxis": {
             "endlinecolor": "#2a3f5f",
             "gridcolor": "white",
             "linecolor": "white",
             "minorgridcolor": "white",
             "startlinecolor": "#2a3f5f"
            },
            "baxis": {
             "endlinecolor": "#2a3f5f",
             "gridcolor": "white",
             "linecolor": "white",
             "minorgridcolor": "white",
             "startlinecolor": "#2a3f5f"
            },
            "type": "carpet"
           }
          ],
          "choropleth": [
           {
            "colorbar": {
             "outlinewidth": 0,
             "ticks": ""
            },
            "type": "choropleth"
           }
          ],
          "contour": [
           {
            "colorbar": {
             "outlinewidth": 0,
             "ticks": ""
            },
            "colorscale": [
             [
              0,
              "#0d0887"
             ],
             [
              0.1111111111111111,
              "#46039f"
             ],
             [
              0.2222222222222222,
              "#7201a8"
             ],
             [
              0.3333333333333333,
              "#9c179e"
             ],
             [
              0.4444444444444444,
              "#bd3786"
             ],
             [
              0.5555555555555556,
              "#d8576b"
             ],
             [
              0.6666666666666666,
              "#ed7953"
             ],
             [
              0.7777777777777778,
              "#fb9f3a"
             ],
             [
              0.8888888888888888,
              "#fdca26"
             ],
             [
              1,
              "#f0f921"
             ]
            ],
            "type": "contour"
           }
          ],
          "contourcarpet": [
           {
            "colorbar": {
             "outlinewidth": 0,
             "ticks": ""
            },
            "type": "contourcarpet"
           }
          ],
          "heatmap": [
           {
            "colorbar": {
             "outlinewidth": 0,
             "ticks": ""
            },
            "colorscale": [
             [
              0,
              "#0d0887"
             ],
             [
              0.1111111111111111,
              "#46039f"
             ],
             [
              0.2222222222222222,
              "#7201a8"
             ],
             [
              0.3333333333333333,
              "#9c179e"
             ],
             [
              0.4444444444444444,
              "#bd3786"
             ],
             [
              0.5555555555555556,
              "#d8576b"
             ],
             [
              0.6666666666666666,
              "#ed7953"
             ],
             [
              0.7777777777777778,
              "#fb9f3a"
             ],
             [
              0.8888888888888888,
              "#fdca26"
             ],
             [
              1,
              "#f0f921"
             ]
            ],
            "type": "heatmap"
           }
          ],
          "heatmapgl": [
           {
            "colorbar": {
             "outlinewidth": 0,
             "ticks": ""
            },
            "colorscale": [
             [
              0,
              "#0d0887"
             ],
             [
              0.1111111111111111,
              "#46039f"
             ],
             [
              0.2222222222222222,
              "#7201a8"
             ],
             [
              0.3333333333333333,
              "#9c179e"
             ],
             [
              0.4444444444444444,
              "#bd3786"
             ],
             [
              0.5555555555555556,
              "#d8576b"
             ],
             [
              0.6666666666666666,
              "#ed7953"
             ],
             [
              0.7777777777777778,
              "#fb9f3a"
             ],
             [
              0.8888888888888888,
              "#fdca26"
             ],
             [
              1,
              "#f0f921"
             ]
            ],
            "type": "heatmapgl"
           }
          ],
          "histogram": [
           {
            "marker": {
             "pattern": {
              "fillmode": "overlay",
              "size": 10,
              "solidity": 0.2
             }
            },
            "type": "histogram"
           }
          ],
          "histogram2d": [
           {
            "colorbar": {
             "outlinewidth": 0,
             "ticks": ""
            },
            "colorscale": [
             [
              0,
              "#0d0887"
             ],
             [
              0.1111111111111111,
              "#46039f"
             ],
             [
              0.2222222222222222,
              "#7201a8"
             ],
             [
              0.3333333333333333,
              "#9c179e"
             ],
             [
              0.4444444444444444,
              "#bd3786"
             ],
             [
              0.5555555555555556,
              "#d8576b"
             ],
             [
              0.6666666666666666,
              "#ed7953"
             ],
             [
              0.7777777777777778,
              "#fb9f3a"
             ],
             [
              0.8888888888888888,
              "#fdca26"
             ],
             [
              1,
              "#f0f921"
             ]
            ],
            "type": "histogram2d"
           }
          ],
          "histogram2dcontour": [
           {
            "colorbar": {
             "outlinewidth": 0,
             "ticks": ""
            },
            "colorscale": [
             [
              0,
              "#0d0887"
             ],
             [
              0.1111111111111111,
              "#46039f"
             ],
             [
              0.2222222222222222,
              "#7201a8"
             ],
             [
              0.3333333333333333,
              "#9c179e"
             ],
             [
              0.4444444444444444,
              "#bd3786"
             ],
             [
              0.5555555555555556,
              "#d8576b"
             ],
             [
              0.6666666666666666,
              "#ed7953"
             ],
             [
              0.7777777777777778,
              "#fb9f3a"
             ],
             [
              0.8888888888888888,
              "#fdca26"
             ],
             [
              1,
              "#f0f921"
             ]
            ],
            "type": "histogram2dcontour"
           }
          ],
          "mesh3d": [
           {
            "colorbar": {
             "outlinewidth": 0,
             "ticks": ""
            },
            "type": "mesh3d"
           }
          ],
          "parcoords": [
           {
            "line": {
             "colorbar": {
              "outlinewidth": 0,
              "ticks": ""
             }
            },
            "type": "parcoords"
           }
          ],
          "pie": [
           {
            "automargin": true,
            "type": "pie"
           }
          ],
          "scatter": [
           {
            "fillpattern": {
             "fillmode": "overlay",
             "size": 10,
             "solidity": 0.2
            },
            "type": "scatter"
           }
          ],
          "scatter3d": [
           {
            "line": {
             "colorbar": {
              "outlinewidth": 0,
              "ticks": ""
             }
            },
            "marker": {
             "colorbar": {
              "outlinewidth": 0,
              "ticks": ""
             }
            },
            "type": "scatter3d"
           }
          ],
          "scattercarpet": [
           {
            "marker": {
             "colorbar": {
              "outlinewidth": 0,
              "ticks": ""
             }
            },
            "type": "scattercarpet"
           }
          ],
          "scattergeo": [
           {
            "marker": {
             "colorbar": {
              "outlinewidth": 0,
              "ticks": ""
             }
            },
            "type": "scattergeo"
           }
          ],
          "scattergl": [
           {
            "marker": {
             "colorbar": {
              "outlinewidth": 0,
              "ticks": ""
             }
            },
            "type": "scattergl"
           }
          ],
          "scattermapbox": [
           {
            "marker": {
             "colorbar": {
              "outlinewidth": 0,
              "ticks": ""
             }
            },
            "type": "scattermapbox"
           }
          ],
          "scatterpolar": [
           {
            "marker": {
             "colorbar": {
              "outlinewidth": 0,
              "ticks": ""
             }
            },
            "type": "scatterpolar"
           }
          ],
          "scatterpolargl": [
           {
            "marker": {
             "colorbar": {
              "outlinewidth": 0,
              "ticks": ""
             }
            },
            "type": "scatterpolargl"
           }
          ],
          "scatterternary": [
           {
            "marker": {
             "colorbar": {
              "outlinewidth": 0,
              "ticks": ""
             }
            },
            "type": "scatterternary"
           }
          ],
          "surface": [
           {
            "colorbar": {
             "outlinewidth": 0,
             "ticks": ""
            },
            "colorscale": [
             [
              0,
              "#0d0887"
             ],
             [
              0.1111111111111111,
              "#46039f"
             ],
             [
              0.2222222222222222,
              "#7201a8"
             ],
             [
              0.3333333333333333,
              "#9c179e"
             ],
             [
              0.4444444444444444,
              "#bd3786"
             ],
             [
              0.5555555555555556,
              "#d8576b"
             ],
             [
              0.6666666666666666,
              "#ed7953"
             ],
             [
              0.7777777777777778,
              "#fb9f3a"
             ],
             [
              0.8888888888888888,
              "#fdca26"
             ],
             [
              1,
              "#f0f921"
             ]
            ],
            "type": "surface"
           }
          ],
          "table": [
           {
            "cells": {
             "fill": {
              "color": "#EBF0F8"
             },
             "line": {
              "color": "white"
             }
            },
            "header": {
             "fill": {
              "color": "#C8D4E3"
             },
             "line": {
              "color": "white"
             }
            },
            "type": "table"
           }
          ]
         },
         "layout": {
          "annotationdefaults": {
           "arrowcolor": "#2a3f5f",
           "arrowhead": 0,
           "arrowwidth": 1
          },
          "autotypenumbers": "strict",
          "coloraxis": {
           "colorbar": {
            "outlinewidth": 0,
            "ticks": ""
           }
          },
          "colorscale": {
           "diverging": [
            [
             0,
             "#8e0152"
            ],
            [
             0.1,
             "#c51b7d"
            ],
            [
             0.2,
             "#de77ae"
            ],
            [
             0.3,
             "#f1b6da"
            ],
            [
             0.4,
             "#fde0ef"
            ],
            [
             0.5,
             "#f7f7f7"
            ],
            [
             0.6,
             "#e6f5d0"
            ],
            [
             0.7,
             "#b8e186"
            ],
            [
             0.8,
             "#7fbc41"
            ],
            [
             0.9,
             "#4d9221"
            ],
            [
             1,
             "#276419"
            ]
           ],
           "sequential": [
            [
             0,
             "#0d0887"
            ],
            [
             0.1111111111111111,
             "#46039f"
            ],
            [
             0.2222222222222222,
             "#7201a8"
            ],
            [
             0.3333333333333333,
             "#9c179e"
            ],
            [
             0.4444444444444444,
             "#bd3786"
            ],
            [
             0.5555555555555556,
             "#d8576b"
            ],
            [
             0.6666666666666666,
             "#ed7953"
            ],
            [
             0.7777777777777778,
             "#fb9f3a"
            ],
            [
             0.8888888888888888,
             "#fdca26"
            ],
            [
             1,
             "#f0f921"
            ]
           ],
           "sequentialminus": [
            [
             0,
             "#0d0887"
            ],
            [
             0.1111111111111111,
             "#46039f"
            ],
            [
             0.2222222222222222,
             "#7201a8"
            ],
            [
             0.3333333333333333,
             "#9c179e"
            ],
            [
             0.4444444444444444,
             "#bd3786"
            ],
            [
             0.5555555555555556,
             "#d8576b"
            ],
            [
             0.6666666666666666,
             "#ed7953"
            ],
            [
             0.7777777777777778,
             "#fb9f3a"
            ],
            [
             0.8888888888888888,
             "#fdca26"
            ],
            [
             1,
             "#f0f921"
            ]
           ]
          },
          "colorway": [
           "#636efa",
           "#EF553B",
           "#00cc96",
           "#ab63fa",
           "#FFA15A",
           "#19d3f3",
           "#FF6692",
           "#B6E880",
           "#FF97FF",
           "#FECB52"
          ],
          "font": {
           "color": "#2a3f5f"
          },
          "geo": {
           "bgcolor": "white",
           "lakecolor": "white",
           "landcolor": "#E5ECF6",
           "showlakes": true,
           "showland": true,
           "subunitcolor": "white"
          },
          "hoverlabel": {
           "align": "left"
          },
          "hovermode": "closest",
          "mapbox": {
           "style": "light"
          },
          "paper_bgcolor": "white",
          "plot_bgcolor": "#E5ECF6",
          "polar": {
           "angularaxis": {
            "gridcolor": "white",
            "linecolor": "white",
            "ticks": ""
           },
           "bgcolor": "#E5ECF6",
           "radialaxis": {
            "gridcolor": "white",
            "linecolor": "white",
            "ticks": ""
           }
          },
          "scene": {
           "xaxis": {
            "backgroundcolor": "#E5ECF6",
            "gridcolor": "white",
            "gridwidth": 2,
            "linecolor": "white",
            "showbackground": true,
            "ticks": "",
            "zerolinecolor": "white"
           },
           "yaxis": {
            "backgroundcolor": "#E5ECF6",
            "gridcolor": "white",
            "gridwidth": 2,
            "linecolor": "white",
            "showbackground": true,
            "ticks": "",
            "zerolinecolor": "white"
           },
           "zaxis": {
            "backgroundcolor": "#E5ECF6",
            "gridcolor": "white",
            "gridwidth": 2,
            "linecolor": "white",
            "showbackground": true,
            "ticks": "",
            "zerolinecolor": "white"
           }
          },
          "shapedefaults": {
           "line": {
            "color": "#2a3f5f"
           }
          },
          "ternary": {
           "aaxis": {
            "gridcolor": "white",
            "linecolor": "white",
            "ticks": ""
           },
           "baxis": {
            "gridcolor": "white",
            "linecolor": "white",
            "ticks": ""
           },
           "bgcolor": "#E5ECF6",
           "caxis": {
            "gridcolor": "white",
            "linecolor": "white",
            "ticks": ""
           }
          },
          "title": {
           "x": 0.05
          },
          "xaxis": {
           "automargin": true,
           "gridcolor": "white",
           "linecolor": "white",
           "ticks": "",
           "title": {
            "standoff": 15
           },
           "zerolinecolor": "white",
           "zerolinewidth": 2
          },
          "yaxis": {
           "automargin": true,
           "gridcolor": "white",
           "linecolor": "white",
           "ticks": "",
           "title": {
            "standoff": 15
           },
           "zerolinecolor": "white",
           "zerolinewidth": 2
          }
         }
        }
       }
      }
     },
     "metadata": {},
     "output_type": "display_data"
    }
   ],
   "source": [
    "df = pd.DataFrame(np.array([x[:, 0], x[:, 1], y]).T, columns=['x1', 'x2', 'y'])\n",
    "fig = px.scatter_3d(df, x='x1', y='x2', z='y')\n",
    "\n",
    "fig.update_layout(scene = dict(\n",
    "                        xaxis=dict(\n",
    "                            nticks=10, range=[0, 1]\n",
    "                            ), \n",
    "                        yaxis=dict(\n",
    "                            nticks=10, range=[0, 1]\n",
    "                            ),\n",
    "                        )\n",
    "                  )\n",
    "fig.show()"
   ]
  },
  {
   "cell_type": "code",
   "execution_count": 66,
   "metadata": {
    "colab": {},
    "colab_type": "code",
    "id": "a-xOCI6z8WhS"
   },
   "outputs": [
    {
     "name": "stdout",
     "output_type": "stream",
     "text": [
      "progress: epoch: 0 loss 468.33642578125\n",
      "progress: epoch: 1 loss 135.26583862304688\n",
      "progress: epoch: 2 loss 1550.3505859375\n",
      "progress: epoch: 3 loss 99353.78125\n",
      "progress: epoch: 4 loss 6488595.5\n",
      "progress: epoch: 5 loss 423793984.0\n",
      "progress: epoch: 6 loss 27679547392.0\n",
      "progress: epoch: 7 loss 1807853551616.0\n",
      "progress: epoch: 8 loss 118077568057344.0\n",
      "progress: epoch: 9 loss 7712081931403264.0\n",
      "estimation of the parameters:\n",
      "Parameter containing:\n",
      "tensor([[14006673., 13926299.]], requires_grad=True)\n",
      "Parameter containing:\n",
      "tensor([26816908.], requires_grad=True)\n"
     ]
    }
   ],
   "source": [
    "model = torch.nn.Sequential(\n",
    "    torch.nn.Linear(2, 1),\n",
    ")\n",
    "\n",
    "for m in model.children():\n",
    "    m.weight.data = w_init_t.clone().unsqueeze(0)\n",
    "    m.bias.data = b_init_t.clone()\n",
    "\n",
    "loss_fn = torch.nn.MSELoss(reduction = 'sum')\n",
    "\n",
    "model.train()\n",
    "\n",
    "optimizer = torch.optim.SGD(model.parameters(), lr=learning_rate)\n",
    "\n",
    "\n",
    "for epoch in range(10):\n",
    "    y_pred = model(x_t)\n",
    "    loss = loss_fn(y_pred, y_t)\n",
    "    print(\"progress:\", \"epoch:\", epoch, \"loss\",loss.item())\n",
    "    # Zero gradients, perform a backward pass, and update the weights.\n",
    "    optimizer.zero_grad()\n",
    "    loss.backward()\n",
    "    optimizer.step()\n",
    "    \n",
    "    \n",
    "# After training\n",
    "print(\"estimation of the parameters:\")\n",
    "for param in model.parameters():\n",
    "    print(param)"
   ]
  },
  {
   "cell_type": "code",
   "execution_count": 67,
   "metadata": {},
   "outputs": [],
   "source": [
    "temp = []\n",
    "for param in model.parameters():\n",
    "    temp.append(param.data)"
   ]
  },
  {
   "cell_type": "code",
   "execution_count": 68,
   "metadata": {},
   "outputs": [
    {
     "data": {
      "image/png": "[encoded data removed]",
      "text/plain": [
       "<Figure size 600x600 with 1 Axes>"
      ]
     },
     "metadata": {},
     "output_type": "display_data"
    }
   ],
   "source": [
    "plot_views(x, y, temp[0][0].numpy(), temp[1].numpy())"
   ]
  },
  {
   "cell_type": "code",
   "execution_count": 69,
   "metadata": {},
   "outputs": [
    {
     "name": "stdout",
     "output_type": "stream",
     "text": [
      "progress: epoch: 0 loss 468.33642578125\n",
      "progress: epoch: 1 loss 421.0374450683594\n",
      "progress: epoch: 2 loss 378.86865234375\n",
      "progress: epoch: 3 loss 340.9911804199219\n",
      "progress: epoch: 4 loss 306.9617004394531\n",
      "progress: epoch: 5 loss 276.38519287109375\n",
      "progress: epoch: 6 loss 248.90760803222656\n",
      "progress: epoch: 7 loss 224.2113494873047\n",
      "progress: epoch: 8 loss 202.0115966796875\n",
      "progress: epoch: 9 loss 182.05296325683594\n",
      "estimation of the parameters:\n",
      "Parameter containing:\n",
      "tensor([[ 1.0369, -0.6951]], requires_grad=True)\n",
      "Parameter containing:\n",
      "tensor([0.3061], requires_grad=True)\n"
     ]
    }
   ],
   "source": [
    "learning_rate_smaller = learning_rate / 10 \n",
    "\n",
    "model = torch.nn.Sequential(\n",
    "    torch.nn.Linear(2, 1),\n",
    ")\n",
    "\n",
    "for m in model.children():\n",
    "    m.weight.data = w_init_t.clone().unsqueeze(0)\n",
    "    m.bias.data = b_init_t.clone()\n",
    "\n",
    "loss_fn = torch.nn.MSELoss(reduction = 'sum')\n",
    "\n",
    "model.train()\n",
    "\n",
    "optimizer = torch.optim.SGD(model.parameters(), lr=learning_rate_smaller)\n",
    "\n",
    "\n",
    "for epoch in range(10):\n",
    "    y_pred = model(x_t)\n",
    "    loss = loss_fn(y_pred, y_t)\n",
    "    print(\"progress:\", \"epoch:\", epoch, \"loss\",loss.item())\n",
    "    # Zero gradients, perform a backward pass, and update the weights.\n",
    "    optimizer.zero_grad()\n",
    "    loss.backward()\n",
    "    optimizer.step()\n",
    "    \n",
    "    \n",
    "# After training\n",
    "print(\"estimation of the parameters:\")\n",
    "for param in model.parameters():\n",
    "    print(param)"
   ]
  },
  {
   "cell_type": "code",
   "execution_count": 70,
   "metadata": {},
   "outputs": [
    {
     "data": {
      "image/png": "[encoded data removed]",
      "text/plain": [
       "<Figure size 600x600 with 1 Axes>"
      ]
     },
     "metadata": {},
     "output_type": "display_data"
    }
   ],
   "source": [
    "temp = []\n",
    "for param in model.parameters():\n",
    "    temp.append(param.data)\n",
    "    \n",
    "plot_views(x, y, temp[0][0].numpy(), temp[1].numpy())"
   ]
  },
  {
   "attachments": {},
   "cell_type": "markdown",
   "metadata": {
    "colab": {},
    "colab_type": "code",
    "id": "CAiS-TfqDOMU"
   },
   "source": [
    "[![Dataflowr](https://raw.githubusercontent.com/dataflowr/website/master/_assets/dataflowr_logo.png)](https://dataflowr.github.io/website/)"
   ]
  }
 ],
 "metadata": {
  "accelerator": "GPU",
  "colab": {
   "include_colab_link": true,
   "name": "02_basics.ipynb",
   "provenance": []
  },
  "kernelspec": {
   "display_name": "Python 3",
   "language": "python",
   "name": "python3"
  },
  "language_info": {
   "codemirror_mode": {
    "name": "ipython",
    "version": 3
   },
   "file_extension": ".py",
   "mimetype": "text/x-python",
   "name": "python",
   "nbconvert_exporter": "python",
   "pygments_lexer": "ipython3",
   "version": "3.11.4"
  }
 },
 "nbformat": 4,
 "nbformat_minor": 1
}
