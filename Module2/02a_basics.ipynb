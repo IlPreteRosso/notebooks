{
 "cells": [
  {
   "attachments": {},
   "cell_type": "markdown",
   "metadata": {},
   "source": [
    "[![Dataflowr](https://raw.githubusercontent.com/dataflowr/website/master/_assets/dataflowr_logo.png)](https://dataflowr.github.io/website/)"
   ]
  },
  {
   "attachments": {},
   "cell_type": "markdown",
   "metadata": {
    "colab_type": "text",
    "id": "YmJE2a4N8We0"
   },
   "source": [
    "# Module 2: PyTorch tensors and automatic differentiation\n",
    "\n",
    "[Video timestamp](https://youtu.be/BmAS8IH7n3c?t=103)"
   ]
  },
  {
   "cell_type": "code",
   "execution_count": 2,
   "metadata": {
    "colab": {},
    "colab_type": "code",
    "id": "zOgNQwiv8We1"
   },
   "outputs": [],
   "source": [
    "import matplotlib.pyplot as plt\n",
    "%matplotlib inline\n",
    "import torch\n",
    "import numpy as np"
   ]
  },
  {
   "cell_type": "code",
   "execution_count": 3,
   "metadata": {
    "colab": {},
    "colab_type": "code",
    "id": "smvq6dbY8We4"
   },
   "outputs": [
    {
     "data": {
      "text/plain": [
       "'2.0.0'"
      ]
     },
     "execution_count": 3,
     "metadata": {},
     "output_type": "execute_result"
    }
   ],
   "source": [
    "torch.__version__"
   ]
  },
  {
   "attachments": {},
   "cell_type": "markdown",
   "metadata": {
    "colab_type": "text",
    "id": "vURcLof_8We8"
   },
   "source": [
    "Tensors are used to encode the signal to process, but also the internal states and parameters of models.\n",
    "\n",
    "**Manipulating data through this constrained structure allows to use CPUs and GPUs at peak performance.**\n",
    "\n",
    "Construct a 3x5 matrix, uninitialized:"
   ]
  },
  {
   "cell_type": "code",
   "execution_count": 7,
   "metadata": {
    "colab": {},
    "colab_type": "code",
    "id": "c9tmMiNo8We-"
   },
   "outputs": [
    {
     "name": "stdout",
     "output_type": "stream",
     "text": [
      "torch.float32\n",
      "tensor([[0., 0., 0., 0., 0.],\n",
      "        [0., 0., 0., 0., 0.],\n",
      "        [0., 0., 0., 0., 0.]])\n"
     ]
    }
   ],
   "source": [
    "x = torch.empty(3,5)\n",
    "print(x.dtype)\n",
    "print(x)"
   ]
  },
  {
   "attachments": {},
   "cell_type": "markdown",
   "metadata": {
    "colab_type": "text",
    "id": "tlonXyHu8WfB"
   },
   "source": [
    "If you got an error this [stackoverflow link](https://stackoverflow.com/questions/50617917/overflow-when-unpacking-long-pytorch) might be useful..."
   ]
  },
  {
   "cell_type": "code",
   "execution_count": 8,
   "metadata": {
    "colab": {},
    "colab_type": "code",
    "id": "xlY-hwAY8WfB"
   },
   "outputs": [
    {
     "name": "stdout",
     "output_type": "stream",
     "text": [
      "tensor([[-0.6557, -0.7996, -2.7824,  0.9814, -0.1160],\n",
      "        [ 0.8824,  0.6040,  0.4694,  0.8892, -1.4784],\n",
      "        [-0.0575,  1.2626, -2.3459, -0.8147, -0.6368]])\n"
     ]
    }
   ],
   "source": [
    "x = torch.randn(3,5)\n",
    "print(x)"
   ]
  },
  {
   "cell_type": "code",
   "execution_count": 9,
   "metadata": {
    "colab": {},
    "colab_type": "code",
    "id": "7g19ZvvL8WfD"
   },
   "outputs": [
    {
     "name": "stdout",
     "output_type": "stream",
     "text": [
      "torch.Size([3, 5])\n"
     ]
    }
   ],
   "source": [
    "print(x.size())"
   ]
  },
  {
   "attachments": {},
   "cell_type": "markdown",
   "metadata": {
    "colab_type": "text",
    "id": "ZPjoP9Ec8WfG"
   },
   "source": [
    "torch.Size is in fact a [tuple](https://docs.python.org/3/tutorial/datastructures.html#tuples-and-sequences), so it supports the same operations.\n",
    "\n",
    "[Video timestamp](https://youtu.be/BmAS8IH7n3c?t=272)"
   ]
  },
  {
   "cell_type": "code",
   "execution_count": 10,
   "metadata": {
    "colab": {},
    "colab_type": "code",
    "id": "rgVPlppm8WfG"
   },
   "outputs": [
    {
     "data": {
      "text/plain": [
       "5"
      ]
     },
     "execution_count": 10,
     "metadata": {},
     "output_type": "execute_result"
    }
   ],
   "source": [
    "x.size()[1]"
   ]
  },
  {
   "cell_type": "code",
   "execution_count": 11,
   "metadata": {
    "colab": {},
    "colab_type": "code",
    "id": "CY87gW168WfI"
   },
   "outputs": [
    {
     "data": {
      "text/plain": [
       "True"
      ]
     },
     "execution_count": 11,
     "metadata": {},
     "output_type": "execute_result"
    }
   ],
   "source": [
    "x.size() == (3,5)"
   ]
  },
  {
   "attachments": {},
   "cell_type": "markdown",
   "metadata": {
    "colab_type": "text",
    "id": "jeUshrFT8WfK"
   },
   "source": [
    "### Bridge to numpy\n",
    "\n",
    "[Video timestamp](https://youtu.be/BmAS8IH7n3c?t=325)"
   ]
  },
  {
   "cell_type": "code",
   "execution_count": 12,
   "metadata": {
    "colab": {},
    "colab_type": "code",
    "id": "C1cDkoT98WfM"
   },
   "outputs": [
    {
     "name": "stdout",
     "output_type": "stream",
     "text": [
      "[[-0.6557495  -0.7996228  -2.7823942   0.98142415 -0.11602033]\n",
      " [ 0.8824496   0.60397875  0.46940258  0.88918096 -1.4783708 ]\n",
      " [-0.05746811  1.2626014  -2.3458939  -0.81474197 -0.6367568 ]]\n"
     ]
    }
   ],
   "source": [
    "y = x.numpy()\n",
    "print(y)"
   ]
  },
  {
   "cell_type": "code",
   "execution_count": 13,
   "metadata": {
    "colab": {},
    "colab_type": "code",
    "id": "2DdMiBVY8WfO"
   },
   "outputs": [
    {
     "name": "stdout",
     "output_type": "stream",
     "text": [
      "float64\n",
      "tensor([1., 1., 1., 1., 1.], dtype=torch.float64)\n"
     ]
    }
   ],
   "source": [
    "a = np.ones(5)\n",
    "b = torch.from_numpy(a)\n",
    "print(a.dtype)\n",
    "print(b)"
   ]
  },
  {
   "cell_type": "code",
   "execution_count": 14,
   "metadata": {
    "colab": {},
    "colab_type": "code",
    "id": "cg-kloHeB_hR"
   },
   "outputs": [
    {
     "name": "stdout",
     "output_type": "stream",
     "text": [
      "torch.int64 tensor([1, 1, 1, 1, 1])\n",
      "torch.float64 tensor([1., 1., 1., 1., 1.], dtype=torch.float64)\n"
     ]
    }
   ],
   "source": [
    "c = b.long()\n",
    "print(c.dtype, c)\n",
    "print(b.dtype, b)"
   ]
  },
  {
   "cell_type": "code",
   "execution_count": 15,
   "metadata": {
    "colab": {},
    "colab_type": "code",
    "id": "lZLbt9C38WfQ"
   },
   "outputs": [
    {
     "name": "stdout",
     "output_type": "stream",
     "text": [
      "torch.float32 tensor([[-0.0319, -1.1755,  0.1245,  0.7277, -1.3105],\n",
      "        [ 0.6989, -1.0204,  0.3287,  2.2475,  0.2095],\n",
      "        [-0.4662,  0.2883,  0.1972, -1.5123,  0.8357]])\n"
     ]
    }
   ],
   "source": [
    "xr = torch.randn(3, 5)\n",
    "print(xr.dtype, xr)"
   ]
  },
  {
   "cell_type": "code",
   "execution_count": 17,
   "metadata": {
    "colab": {},
    "colab_type": "code",
    "id": "T5nYMEcM8WfS"
   },
   "outputs": [
    {
     "data": {
      "text/plain": [
       "torch.float32"
      ]
     },
     "metadata": {},
     "output_type": "display_data"
    },
    {
     "data": {
      "text/plain": [
       "torch.float64"
      ]
     },
     "metadata": {},
     "output_type": "display_data"
    },
    {
     "data": {
      "text/plain": [
       "tensor([[ 0.9681, -0.1755,  1.1245,  1.7277, -0.3105],\n",
       "        [ 1.6989, -0.0204,  1.3287,  3.2475,  1.2095],\n",
       "        [ 0.5338,  1.2883,  1.1972, -0.5123,  1.8357]], dtype=torch.float64)"
      ]
     },
     "execution_count": 17,
     "metadata": {},
     "output_type": "execute_result"
    }
   ],
   "source": [
    "resb = xr + b\n",
    "display(xr.dtype, b.dtype)\n",
    "resb"
   ]
  },
  {
   "cell_type": "code",
   "execution_count": 18,
   "metadata": {
    "colab": {},
    "colab_type": "code",
    "id": "QGTfk0M9B_hd"
   },
   "outputs": [
    {
     "data": {
      "text/plain": [
       "torch.float32"
      ]
     },
     "metadata": {},
     "output_type": "display_data"
    },
    {
     "data": {
      "text/plain": [
       "torch.int64"
      ]
     },
     "metadata": {},
     "output_type": "display_data"
    },
    {
     "data": {
      "text/plain": [
       "tensor([[ 0.9681, -0.1755,  1.1245,  1.7277, -0.3105],\n",
       "        [ 1.6989, -0.0204,  1.3287,  3.2475,  1.2095],\n",
       "        [ 0.5338,  1.2883,  1.1972, -0.5123,  1.8357]])"
      ]
     },
     "execution_count": 18,
     "metadata": {},
     "output_type": "execute_result"
    }
   ],
   "source": [
    "resc = xr + c\n",
    "display(xr.dtype, c.dtype)\n",
    "resc"
   ]
  },
  {
   "attachments": {},
   "cell_type": "markdown",
   "metadata": {
    "colab_type": "text",
    "id": "YuZ0-dswB_hf"
   },
   "source": [
    "Be careful with types!"
   ]
  },
  {
   "cell_type": "code",
   "execution_count": 19,
   "metadata": {
    "colab": {},
    "colab_type": "code",
    "id": "4Jdin_2zB_hg"
   },
   "outputs": [
    {
     "data": {
      "text/plain": [
       "tensor([[False,  True, False, False,  True],\n",
       "        [ True,  True, False,  True, False],\n",
       "        [ True, False, False,  True, False]])"
      ]
     },
     "execution_count": 19,
     "metadata": {},
     "output_type": "execute_result"
    }
   ],
   "source": [
    "resb == resc"
   ]
  },
  {
   "cell_type": "code",
   "execution_count": null,
   "metadata": {
    "colab": {},
    "colab_type": "code",
    "id": "Rn7Xp9dpB_hk"
   },
   "outputs": [],
   "source": [
    "torch.set_printoptions(precision=10)"
   ]
  },
  {
   "cell_type": "code",
   "execution_count": 20,
   "metadata": {
    "colab": {},
    "colab_type": "code",
    "id": "ipyVIQiKB_hn"
   },
   "outputs": [
    {
     "data": {
      "text/plain": [
       "tensor(-0.1755, dtype=torch.float64)"
      ]
     },
     "execution_count": 20,
     "metadata": {},
     "output_type": "execute_result"
    }
   ],
   "source": [
    "resb[0,1]"
   ]
  },
  {
   "cell_type": "code",
   "execution_count": 21,
   "metadata": {
    "colab": {},
    "colab_type": "code",
    "id": "dEdzZjHhB_hp"
   },
   "outputs": [
    {
     "data": {
      "text/plain": [
       "tensor(-0.1755)"
      ]
     },
     "execution_count": 21,
     "metadata": {},
     "output_type": "execute_result"
    }
   ],
   "source": [
    "resc[0,1]"
   ]
  },
  {
   "cell_type": "code",
   "execution_count": 22,
   "metadata": {
    "colab": {},
    "colab_type": "code",
    "id": "nkYkbUJNB_hr"
   },
   "outputs": [
    {
     "data": {
      "text/plain": [
       "torch.float32"
      ]
     },
     "execution_count": 22,
     "metadata": {},
     "output_type": "execute_result"
    }
   ],
   "source": [
    "resc[0,1].dtype"
   ]
  },
  {
   "cell_type": "code",
   "execution_count": 23,
   "metadata": {
    "colab": {},
    "colab_type": "code",
    "id": "XCBKNjLdB_hu"
   },
   "outputs": [
    {
     "data": {
      "text/plain": [
       "tensor(-1.1755)"
      ]
     },
     "execution_count": 23,
     "metadata": {},
     "output_type": "execute_result"
    }
   ],
   "source": [
    "xr[0,1]"
   ]
  },
  {
   "cell_type": "code",
   "execution_count": 24,
   "metadata": {
    "colab": {},
    "colab_type": "code",
    "id": "wGdO-oaRB_hw"
   },
   "outputs": [],
   "source": [
    "torch.set_printoptions(precision=4)"
   ]
  },
  {
   "attachments": {},
   "cell_type": "markdown",
   "metadata": {
    "colab_type": "text",
    "id": "kt-CZCaZ8WgO"
   },
   "source": [
    "### [Broadcasting](https://numpy.org/doc/stable/user/basics.broadcasting.html)\n",
    "\n",
    "[Video timestamp](https://youtu.be/BmAS8IH7n3c?t=670)\n",
    "\n",
    "Broadcasting automagically expands dimensions by replicating coefficients, when it is necessary to perform operations.\n",
    "\n",
    "1. If one of the tensors has fewer dimensions than the other, it is reshaped by adding as many dimensions of size 1 as necessary in the front; then\n",
    "2. for every mismatch, if one of the two tensor is of size one, it is expanded along this axis by replicating  coefficients.\n",
    "\n",
    "If there is a tensor size mismatch for one of the dimension and neither of them is one, the operation fails."
   ]
  },
  {
   "cell_type": "code",
   "execution_count": 25,
   "metadata": {
    "colab": {},
    "colab_type": "code",
    "id": "SvB3V_ek8WgP"
   },
   "outputs": [
    {
     "name": "stdout",
     "output_type": "stream",
     "text": [
      "torch.Size([4, 1])\n",
      "torch.Size([1, 5])\n"
     ]
    }
   ],
   "source": [
    "A = torch.tensor([[1.], [2.], [3.], [4.]])\n",
    "print(A.size())\n",
    "B = torch.tensor([[5., -5., 5., -5., 5.]])\n",
    "print(B.size())\n",
    "C = A + B"
   ]
  },
  {
   "cell_type": "code",
   "execution_count": 26,
   "metadata": {
    "colab": {},
    "colab_type": "code",
    "id": "aqqe1aTr8WgQ"
   },
   "outputs": [
    {
     "data": {
      "text/plain": [
       "tensor([[ 6., -4.,  6., -4.,  6.],\n",
       "        [ 7., -3.,  7., -3.,  7.],\n",
       "        [ 8., -2.,  8., -2.,  8.],\n",
       "        [ 9., -1.,  9., -1.,  9.]])"
      ]
     },
     "execution_count": 26,
     "metadata": {},
     "output_type": "execute_result"
    }
   ],
   "source": [
    "C"
   ]
  },
  {
   "attachments": {},
   "cell_type": "markdown",
   "metadata": {},
   "source": [
    "\\begin{array}{c}\n",
    "1\\\\\n",
    "2\\\\\n",
    "3\\\\\n",
    "4\\\\\n",
    "\\end{array}\n",
    "\n",
    "\\begin{equation*}\n",
    "A = (\\begin{array}{c}\n",
    "1\\\\\n",
    "2\\\\\n",
    "3\\\\\n",
    "4\\\\\n",
    "\\end{array})"
   ]
  },
  {
   "attachments": {},
   "cell_type": "markdown",
   "metadata": {
    "colab_type": "text",
    "id": "lvj9kBUCB_h3"
   },
   "source": [
    "The original (column-)vector\n",
    "\\begin{eqnarray*}\n",
    "A = \\left( \\begin{array}{c}\n",
    "1\\\\\n",
    "2\\\\\n",
    "3\\\\\n",
    "4\\\\\n",
    "\\end{array}\\right)\n",
    "\\end{eqnarray*}\n",
    "is transformed into the matrix \n",
    "\\begin{eqnarray*}\n",
    "A = \\left( \\begin{array}{ccccc}\n",
    "1&1&1&1&1\\\\\n",
    "2&2&2&2&2\\\\\n",
    "3&3&3&3&3\\\\\n",
    "4&4&4&4&4\n",
    "\\end{array}\\right)\n",
    "\\end{eqnarray*}\n",
    "and the original (row-)vector\n",
    "\\begin{eqnarray*}\n",
    "B = (5,-5,5,-5,5)\n",
    "\\end{eqnarray*}\n",
    "is transformed into the matrix\n",
    "\\begin{eqnarray*}\n",
    "B = \\left( \\begin{array}{ccccc}\n",
    "5&-5&5&-5&5\\\\\n",
    "5&-5&5&-5&5\\\\\n",
    "5&-5&5&-5&5\\\\\n",
    "5&-5&5&-5&5\n",
    "\\end{array}\\right)\n",
    "\\end{eqnarray*}\n",
    "so that summing these matrices gives:\n",
    "\\begin{eqnarray*}\n",
    "A+B = \\left( \\begin{array}{ccccc}\n",
    "6&-4&6&-4&6\\\\\n",
    "7&-3&7&-3&7\\\\\n",
    "8&-2&8&-2&8\\\\\n",
    "9&-1&9&-1&9\n",
    "\\end{array}\\right)\n",
    "\\end{eqnarray*}"
   ]
  },
  {
   "attachments": {},
   "cell_type": "markdown",
   "metadata": {
    "colab_type": "text",
    "id": "gq32MIeZB_h3"
   },
   "source": [
    "### In-place modification\n",
    "\n",
    "[Video timestamp](https://youtu.be/BmAS8IH7n3c?t=875)"
   ]
  },
  {
   "cell_type": "code",
   "execution_count": 29,
   "metadata": {
    "colab": {},
    "colab_type": "code",
    "id": "-V4Qvh2JB_h4"
   },
   "outputs": [
    {
     "data": {
      "text/plain": [
       "tensor([[-0.6557, -0.7996, -2.7824,  0.9814, -0.1160],\n",
       "        [ 0.8824,  0.6040,  0.4694,  0.8892, -1.4784],\n",
       "        [-0.0575,  1.2626, -2.3459, -0.8147, -0.6368]])"
      ]
     },
     "execution_count": 29,
     "metadata": {},
     "output_type": "execute_result"
    }
   ],
   "source": [
    "x"
   ]
  },
  {
   "cell_type": "code",
   "execution_count": 30,
   "metadata": {
    "colab": {},
    "colab_type": "code",
    "id": "VptqIf-0B_h7"
   },
   "outputs": [
    {
     "data": {
      "text/plain": [
       "tensor([[-0.0319, -1.1755,  0.1245,  0.7277, -1.3105],\n",
       "        [ 0.6989, -1.0204,  0.3287,  2.2475,  0.2095],\n",
       "        [-0.4662,  0.2883,  0.1972, -1.5123,  0.8357]])"
      ]
     },
     "execution_count": 30,
     "metadata": {},
     "output_type": "execute_result"
    }
   ],
   "source": [
    "xr"
   ]
  },
  {
   "cell_type": "code",
   "execution_count": 31,
   "metadata": {
    "colab": {},
    "colab_type": "code",
    "id": "TlLf2SSZ8WfY"
   },
   "outputs": [
    {
     "name": "stdout",
     "output_type": "stream",
     "text": [
      "tensor([[-0.6876, -1.9751, -2.6579,  1.7091, -1.4265],\n",
      "        [ 1.5814, -0.4164,  0.7981,  3.1367, -1.2689],\n",
      "        [-0.5237,  1.5509, -2.1487, -2.3270,  0.1990]])\n"
     ]
    }
   ],
   "source": [
    "print(x+xr)"
   ]
  },
  {
   "cell_type": "code",
   "execution_count": 32,
   "metadata": {
    "colab": {},
    "colab_type": "code",
    "id": "jk8j_AhL8Wfa"
   },
   "outputs": [
    {
     "name": "stdout",
     "output_type": "stream",
     "text": [
      "tensor([[-0.6876, -1.9751, -2.6579,  1.7091, -1.4265],\n",
      "        [ 1.5814, -0.4164,  0.7981,  3.1367, -1.2689],\n",
      "        [-0.5237,  1.5509, -2.1487, -2.3270,  0.1990]])\n"
     ]
    }
   ],
   "source": [
    "x.add_(xr)\n",
    "print(x)"
   ]
  },
  {
   "attachments": {},
   "cell_type": "markdown",
   "metadata": {
    "colab_type": "text",
    "id": "KmB6aFc08Wfc"
   },
   "source": [
    "Any operation that mutates a tensor in-place is post-fixed with an ```_```\n",
    "\n",
    "For example: ```x.fill_(y)```, ```x.t_()```, will change ```x```."
   ]
  },
  {
   "cell_type": "code",
   "execution_count": 33,
   "metadata": {
    "colab": {},
    "colab_type": "code",
    "id": "Rzb4jk-d8Wfd"
   },
   "outputs": [
    {
     "name": "stdout",
     "output_type": "stream",
     "text": [
      "tensor([[-0.6876,  1.5814, -0.5237],\n",
      "        [-1.9751, -0.4164,  1.5509],\n",
      "        [-2.6579,  0.7981, -2.1487],\n",
      "        [ 1.7091,  3.1367, -2.3270],\n",
      "        [-1.4265, -1.2689,  0.1990]])\n"
     ]
    }
   ],
   "source": [
    "print(x.t())"
   ]
  },
  {
   "cell_type": "code",
   "execution_count": 34,
   "metadata": {
    "colab": {},
    "colab_type": "code",
    "id": "ZNXvqa_38Wff"
   },
   "outputs": [
    {
     "name": "stdout",
     "output_type": "stream",
     "text": [
      "tensor([[-0.6876,  1.5814, -0.5237],\n",
      "        [-1.9751, -0.4164,  1.5509],\n",
      "        [-2.6579,  0.7981, -2.1487],\n",
      "        [ 1.7091,  3.1367, -2.3270],\n",
      "        [-1.4265, -1.2689,  0.1990]])\n"
     ]
    }
   ],
   "source": [
    "x.t_()\n",
    "print(x)"
   ]
  },
  {
   "attachments": {},
   "cell_type": "markdown",
   "metadata": {
    "colab_type": "text",
    "id": "zO4O1rJD8Wfi"
   },
   "source": [
    "### Shared memory\n",
    "\n",
    "[Video timestamp](https://youtu.be/BmAS8IH7n3c?t=990)\n",
    "\n",
    "Also be careful, changing the torch tensor modify the numpy array and vice-versa...\n",
    "\n",
    "This is explained in the PyTorch documentation [here](https://pytorch.org/docs/stable/torch.html#torch.from_numpy):\n",
    "The returned tensor by `torch.from_numpy` and ndarray share the same memory. Modifications to the tensor will be reflected in the ndarray and vice versa. "
   ]
  },
  {
   "cell_type": "code",
   "execution_count": 35,
   "metadata": {
    "colab": {},
    "colab_type": "code",
    "id": "EYOR2MzI8Wfj"
   },
   "outputs": [
    {
     "name": "stdout",
     "output_type": "stream",
     "text": [
      "tensor([1., 1., 1., 1., 1.], dtype=torch.float64)\n"
     ]
    }
   ],
   "source": [
    "a = np.ones(5)\n",
    "b = torch.from_numpy(a)\n",
    "print(b)"
   ]
  },
  {
   "cell_type": "code",
   "execution_count": 36,
   "metadata": {
    "colab": {},
    "colab_type": "code",
    "id": "ZP8DJXaC8Wfl"
   },
   "outputs": [
    {
     "name": "stdout",
     "output_type": "stream",
     "text": [
      "tensor([1., 1., 0., 1., 1.], dtype=torch.float64)\n"
     ]
    }
   ],
   "source": [
    "a[2] = 0\n",
    "print(b)"
   ]
  },
  {
   "cell_type": "code",
   "execution_count": 37,
   "metadata": {
    "colab": {},
    "colab_type": "code",
    "id": "5Ixqe4FEB_iL"
   },
   "outputs": [
    {
     "name": "stdout",
     "output_type": "stream",
     "text": [
      "[1. 1. 0. 5. 1.]\n"
     ]
    }
   ],
   "source": [
    "b[3] = 5\n",
    "print(a)"
   ]
  },
  {
   "attachments": {},
   "cell_type": "markdown",
   "metadata": {
    "colab_type": "text",
    "id": "ahC2FkEGB_iN"
   },
   "source": [
    "### Cuda\n",
    "\n",
    "[Video timestamp](https://youtu.be/BmAS8IH7n3c?t=1120)"
   ]
  },
  {
   "cell_type": "code",
   "execution_count": 27,
   "metadata": {
    "colab": {},
    "colab_type": "code",
    "id": "0Aq_IjCa8Wfo"
   },
   "outputs": [
    {
     "data": {
      "text/plain": [
       "False"
      ]
     },
     "execution_count": 27,
     "metadata": {},
     "output_type": "execute_result"
    }
   ],
   "source": [
    "torch.cuda.is_available()"
   ]
  },
  {
   "cell_type": "code",
   "execution_count": 28,
   "metadata": {
    "colab": {},
    "colab_type": "code",
    "id": "eZ9T7v3L8Wfq"
   },
   "outputs": [
    {
     "data": {
      "text/plain": [
       "device(type='mps')"
      ]
     },
     "execution_count": 28,
     "metadata": {},
     "output_type": "execute_result"
    }
   ],
   "source": [
    "#device = torch.device('cpu')\n",
    "#device = torch.device('cuda') # Uncomment this to run on GPU\n",
    "device = torch.device('mps' if torch.has_mps else 'cpu')\n",
    "device"
   ]
  },
  {
   "cell_type": "code",
   "execution_count": 38,
   "metadata": {
    "colab": {},
    "colab_type": "code",
    "id": "BQv3WhHn8Wft"
   },
   "outputs": [
    {
     "data": {
      "text/plain": [
       "device(type='cpu')"
      ]
     },
     "execution_count": 38,
     "metadata": {},
     "output_type": "execute_result"
    }
   ],
   "source": [
    "x.device"
   ]
  },
  {
   "cell_type": "code",
   "execution_count": 42,
   "metadata": {
    "colab": {},
    "colab_type": "code",
    "id": "eKY8kHv_8Wfw"
   },
   "outputs": [
    {
     "name": "stdout",
     "output_type": "stream",
     "text": [
      "tensor([[ 0.3124,  2.5814,  0.4763],\n",
      "        [-0.9751,  0.5836,  2.5509],\n",
      "        [-1.6579,  1.7981, -1.1487],\n",
      "        [ 2.7091,  4.1367, -1.3270],\n",
      "        [-0.4265, -0.2689,  1.1990]], device='mps:0') torch.mps.FloatTensor\n",
      "tensor([[ 0.3124,  2.5814,  0.4763],\n",
      "        [-0.9751,  0.5836,  2.5509],\n",
      "        [-1.6579,  1.7981, -1.1487],\n",
      "        [ 2.7091,  4.1367, -1.3270],\n",
      "        [-0.4265, -0.2689,  1.1990]])\n"
     ]
    }
   ],
   "source": [
    "# let us run this cell only if CUDA is available\n",
    "# We will use ``torch.device`` objects to move tensors in and out of GPU\n",
    "if torch.has_mps:\n",
    "    y = torch.ones_like(x, device=device)  # directly create a tensor on GPU\n",
    "    x = x.to(device)                       # or just use strings ``.to(\"cuda\")``\n",
    "    z = x + y\n",
    "    print(z,z.type())\n",
    "    print(z.to(\"cpu\", torch.float))       # ``.to`` can also change dtype together!"
   ]
  },
  {
   "cell_type": "code",
   "execution_count": 43,
   "metadata": {
    "colab": {},
    "colab_type": "code",
    "id": "1A7Q5VYK8Wfx"
   },
   "outputs": [],
   "source": [
    "x = torch.randn(1)\n",
    "x = x.to(device)"
   ]
  },
  {
   "cell_type": "code",
   "execution_count": 44,
   "metadata": {
    "colab": {},
    "colab_type": "code",
    "id": "EnzdVsQW8HR3"
   },
   "outputs": [
    {
     "data": {
      "text/plain": [
       "device(type='mps', index=0)"
      ]
     },
     "execution_count": 44,
     "metadata": {},
     "output_type": "execute_result"
    }
   ],
   "source": [
    "x.device"
   ]
  },
  {
   "cell_type": "code",
   "execution_count": 45,
   "metadata": {
    "colab": {},
    "colab_type": "code",
    "id": "6DzbPRKV8Wfz"
   },
   "outputs": [
    {
     "name": "stdout",
     "output_type": "stream",
     "text": [
      "tensor([0.6179], device='mps:0')\n",
      "0.6178849935531616\n",
      "[0.617885]\n"
     ]
    }
   ],
   "source": [
    "# the following line is only useful if CUDA is available\n",
    "x = x.data\n",
    "print(x)\n",
    "print(x.item())\n",
    "print(x.cpu().numpy())"
   ]
  },
  {
   "attachments": {},
   "cell_type": "markdown",
   "metadata": {
    "colab_type": "text",
    "id": "Ppop1eqWB_if"
   },
   "source": [
    "# Simple interfaces to standard image data-bases\n",
    "\n",
    "[Video timestamp](https://youtu.be/BmAS8IH7n3c?t=1354)\n",
    "\n",
    "An example, the [CIFAR10](https://pytorch.org/docs/stable/torchvision/datasets.html#torchvision.datasets.CIFAR10) dataset."
   ]
  },
  {
   "cell_type": "code",
   "execution_count": null,
   "metadata": {
    "colab": {},
    "colab_type": "code",
    "id": "E7O6lDC88Wf1"
   },
   "outputs": [],
   "source": [
    "import torchvision\n",
    "\n",
    "data_dir = 'content/data'\n",
    "\n",
    "cifar = torchvision.datasets.CIFAR10(data_dir, train = True, download = True)\n",
    "cifar.data.shape"
   ]
  },
  {
   "attachments": {},
   "cell_type": "markdown",
   "metadata": {
    "colab_type": "text",
    "id": "JfIsAgwGB_ih"
   },
   "source": [
    "Documentation about the [`permute`](https://pytorch.org/docs/stable/tensors.html#torch.Tensor.permute) operation."
   ]
  },
  {
   "cell_type": "code",
   "execution_count": null,
   "metadata": {
    "colab": {},
    "colab_type": "code",
    "id": "37KuS3m-B_ii"
   },
   "outputs": [],
   "source": [
    "x = torch.from_numpy(cifar.data).permute(0,3,1,2).float()\n",
    "x = x / 255\n",
    "print(x.type(), x.size(), x.min().item(), x.max().item())"
   ]
  },
  {
   "attachments": {},
   "cell_type": "markdown",
   "metadata": {
    "colab_type": "text",
    "id": "dfrAC1GaB_ik"
   },
   "source": [
    "Documentation about the [`narrow(input, dim, start, length)`](https://pytorch.org/docs/stable/torch.html#torch.narrow) operation."
   ]
  },
  {
   "cell_type": "code",
   "execution_count": null,
   "metadata": {
    "colab": {},
    "colab_type": "code",
    "id": "DZUzzXJD8Wf3"
   },
   "outputs": [],
   "source": [
    "# Narrows to the first images, converts to float\n",
    "x = torch.narrow(x, 0, 0, 48)"
   ]
  },
  {
   "cell_type": "code",
   "execution_count": null,
   "metadata": {
    "colab": {},
    "colab_type": "code",
    "id": "q5J3ohUMB_im"
   },
   "outputs": [],
   "source": [
    "x.shape"
   ]
  },
  {
   "cell_type": "code",
   "execution_count": null,
   "metadata": {
    "colab": {},
    "colab_type": "code",
    "id": "eVT7H5jS8Wf8"
   },
   "outputs": [],
   "source": [
    "# Showing images\n",
    "def show(img):\n",
    "    npimg = img.numpy()\n",
    "    plt.figure(figsize=(20,10))\n",
    "    plt.imshow(np.transpose(npimg, (1,2,0)), interpolation='nearest')\n",
    "    \n",
    "show(torchvision.utils.make_grid(x, nrow = 12))"
   ]
  },
  {
   "cell_type": "code",
   "execution_count": null,
   "metadata": {
    "colab": {},
    "colab_type": "code",
    "id": "9WuxYev_8Wf_"
   },
   "outputs": [],
   "source": [
    "# Kills the green and blue channels\n",
    "x.narrow(1, 1, 2).fill_(0)\n",
    "show(torchvision.utils.make_grid(x, nrow = 12))"
   ]
  },
  {
   "attachments": {},
   "cell_type": "markdown",
   "metadata": {
    "colab_type": "text",
    "id": "QWopk2GX8WgB"
   },
   "source": [
    "# Autograd: automatic differentiation\n",
    "\n",
    "[Video timestamp](https://youtu.be/Z6H3zakmn6E?t=40)\n",
    "\n",
    "When executing tensor operations, PyTorch can automatically construct on-the-fly the graph of operations to compute the gradient of any quantity with respect to any tensor involved.\n",
    "\n",
    "To be more concrete, we introduce the following example: we consider parameters $w\\in \\mathbb{R}$ and $b\\in \\mathbb{R}$ with the corresponding function:\n",
    "\\begin{equation*}\n",
    "\\ell = \\left(\\exp(wx+b) - y^* \\right)^2\n",
    "\\end{equation*}\n",
    "\n",
    "Our goal here, will be to compute the following partial derivatives:\n",
    "\\begin{equation*}\n",
    "\\frac{\\partial \\ell}{\\partial w}\\text{ and, }\\frac{\\partial \\ell}{\\partial b}.\n",
    "\\end{equation*}\n",
    "\n",
    "The reason for doing this will be clear when you will solve the practicals for this lesson!\n",
    "\n",
    "You can decompose this function as a composition of basic operations. This is call the forward pass on the graph of operations.\n",
    "![backprop1](https://dataflowr.github.io/notebooks/Module2/img/backprop1.png)"
   ]
  },
  {
   "attachments": {},
   "cell_type": "markdown",
   "metadata": {
    "colab_type": "text",
    "id": "78AWWCb9B_iu"
   },
   "source": [
    "Let say we start with our model in `numpy`:"
   ]
  },
  {
   "cell_type": "code",
   "execution_count": 128,
   "metadata": {
    "colab": {},
    "colab_type": "code",
    "id": "4TEixrqxB_iv"
   },
   "outputs": [],
   "source": [
    "w = np.array([0.5])\n",
    "b = np.array([2])\n",
    "xx = np.array([0.5])#np.arange(0,1.5,.5)"
   ]
  },
  {
   "attachments": {},
   "cell_type": "markdown",
   "metadata": {
    "colab_type": "text",
    "id": "CZ8DlM8lB_iw"
   },
   "source": [
    "transform these into `tensor`:"
   ]
  },
  {
   "cell_type": "code",
   "execution_count": 129,
   "metadata": {
    "colab": {},
    "colab_type": "code",
    "id": "tKl5570iB_ix"
   },
   "outputs": [],
   "source": [
    "xx_t = torch.from_numpy(xx)\n",
    "w_t = torch.from_numpy(w)\n",
    "b_t = torch.from_numpy(b)"
   ]
  },
  {
   "attachments": {},
   "cell_type": "markdown",
   "metadata": {
    "colab_type": "text",
    "id": "j9PwWnxYB_iz"
   },
   "source": [
    "[Video timestamp](https://youtu.be/Z6H3zakmn6E?t=224)\n",
    "\n",
    "A `tensor` has a Boolean field `requires_grad`, set to `False` by default, which states if PyTorch should build the graph of operations so that gradients with respect to it can be computed."
   ]
  },
  {
   "cell_type": "code",
   "execution_count": 130,
   "metadata": {
    "colab": {},
    "colab_type": "code",
    "id": "WbWfbvtdB_iz"
   },
   "outputs": [
    {
     "data": {
      "text/plain": [
       "False"
      ]
     },
     "execution_count": 130,
     "metadata": {},
     "output_type": "execute_result"
    }
   ],
   "source": [
    "w_t.requires_grad"
   ]
  },
  {
   "attachments": {},
   "cell_type": "markdown",
   "metadata": {
    "colab_type": "text",
    "id": "T8rD3GLyB_i2"
   },
   "source": [
    "We want to take derivative with respect to $w$ so we change this value:"
   ]
  },
  {
   "cell_type": "code",
   "execution_count": 131,
   "metadata": {
    "colab": {},
    "colab_type": "code",
    "id": "iqS0CC8NB_i2"
   },
   "outputs": [
    {
     "data": {
      "text/plain": [
       "tensor([0.5000], dtype=torch.float64, requires_grad=True)"
      ]
     },
     "execution_count": 131,
     "metadata": {},
     "output_type": "execute_result"
    }
   ],
   "source": [
    "w_t.requires_grad_(True)"
   ]
  },
  {
   "attachments": {},
   "cell_type": "markdown",
   "metadata": {
    "colab_type": "text",
    "id": "ysa_qEvFB_i5"
   },
   "source": [
    "We want to do the same thing for $b$ but the following line will produce an error!"
   ]
  },
  {
   "cell_type": "code",
   "execution_count": 132,
   "metadata": {
    "colab": {},
    "colab_type": "code",
    "id": "8pSa2V4yB_i5"
   },
   "outputs": [
    {
     "data": {
      "text/plain": [
       "torch.int64"
      ]
     },
     "metadata": {},
     "output_type": "display_data"
    },
    {
     "ename": "RuntimeError",
     "evalue": "only Tensors of floating point dtype can require gradients",
     "output_type": "error",
     "traceback": [
      "\u001b[0;31m---------------------------------------------------------------------------\u001b[0m",
      "\u001b[0;31mRuntimeError\u001b[0m                              Traceback (most recent call last)",
      "Cell \u001b[0;32mIn[132], line 2\u001b[0m\n\u001b[1;32m      1\u001b[0m display(b_t\u001b[39m.\u001b[39mdtype)\n\u001b[0;32m----> 2\u001b[0m b_t\u001b[39m.\u001b[39;49mrequires_grad_(\u001b[39mTrue\u001b[39;49;00m)\n",
      "\u001b[0;31mRuntimeError\u001b[0m: only Tensors of floating point dtype can require gradients"
     ]
    }
   ],
   "source": [
    "display(b_t.dtype)\n",
    "b_t.requires_grad_(True)"
   ]
  },
  {
   "attachments": {},
   "cell_type": "markdown",
   "metadata": {
    "colab_type": "text",
    "id": "EL0X9fIsB_i8"
   },
   "source": [
    "Reading the error message should allow you to correct the mistake!"
   ]
  },
  {
   "cell_type": "code",
   "execution_count": 133,
   "metadata": {
    "colab": {},
    "colab_type": "code",
    "id": "imH8JSXxB_i-"
   },
   "outputs": [],
   "source": [
    "dtype = torch.float64"
   ]
  },
  {
   "cell_type": "code",
   "execution_count": 134,
   "metadata": {
    "colab": {},
    "colab_type": "code",
    "id": "XLSSIn5jB_jA"
   },
   "outputs": [],
   "source": [
    "b_t = b_t.type(dtype)"
   ]
  },
  {
   "cell_type": "code",
   "execution_count": 135,
   "metadata": {
    "colab": {},
    "colab_type": "code",
    "id": "k6mpavg-B_jD"
   },
   "outputs": [
    {
     "data": {
      "text/plain": [
       "tensor([2.], dtype=torch.float64, requires_grad=True)"
      ]
     },
     "execution_count": 135,
     "metadata": {},
     "output_type": "execute_result"
    }
   ],
   "source": [
    "b_t.requires_grad_(True)"
   ]
  },
  {
   "attachments": {},
   "cell_type": "markdown",
   "metadata": {
    "colab_type": "text",
    "id": "Melb8jo8B_jE"
   },
   "source": [
    "[Video timestamp](https://youtu.be/Z6H3zakmn6E?t=404)\n",
    "\n",
    "We now compute the function:"
   ]
  },
  {
   "cell_type": "code",
   "execution_count": 136,
   "metadata": {
    "colab": {},
    "colab_type": "code",
    "id": "elI91IulB_jF"
   },
   "outputs": [
    {
     "name": "stdout",
     "output_type": "stream",
     "text": [
      "tensor([9.4877], dtype=torch.float64, grad_fn=<ExpBackward0>)\n"
     ]
    }
   ],
   "source": [
    "def fun(x,ystar):\n",
    "    y = torch.exp(w_t*x+b_t)\n",
    "    print(y)\n",
    "    return torch.sum((y-ystar)**2)\n",
    "\n",
    "ystar_t = torch.randn_like(xx_t)\n",
    "l_t = fun(xx_t,ystar_t) # if this is excecuted twice, \n",
    "                        # the grad accuminates and will be twice as much"
   ]
  },
  {
   "cell_type": "code",
   "execution_count": 137,
   "metadata": {
    "colab": {},
    "colab_type": "code",
    "id": "Q5qpcse1B_jG"
   },
   "outputs": [
    {
     "data": {
      "text/plain": [
       "tensor(66.6562, dtype=torch.float64, grad_fn=<SumBackward0>)"
      ]
     },
     "execution_count": 137,
     "metadata": {},
     "output_type": "execute_result"
    }
   ],
   "source": [
    "l_t"
   ]
  },
  {
   "cell_type": "code",
   "execution_count": 138,
   "metadata": {
    "colab": {},
    "colab_type": "code",
    "id": "2WXzmCSdB_jI"
   },
   "outputs": [
    {
     "data": {
      "text/plain": [
       "True"
      ]
     },
     "execution_count": 138,
     "metadata": {},
     "output_type": "execute_result"
    }
   ],
   "source": [
    "l_t.requires_grad"
   ]
  },
  {
   "attachments": {},
   "cell_type": "markdown",
   "metadata": {
    "colab_type": "text",
    "id": "zJEjjKBFB_jK"
   },
   "source": [
    "After the computation is finished, i.e. *forward pass*, you can call ```.backward()``` and have all the gradients computed automatically."
   ]
  },
  {
   "cell_type": "code",
   "execution_count": 139,
   "metadata": {
    "colab": {},
    "colab_type": "code",
    "id": "x1m1CowRB_jK"
   },
   "outputs": [
    {
     "name": "stdout",
     "output_type": "stream",
     "text": [
      "None\n"
     ]
    }
   ],
   "source": [
    "print(w_t.grad)"
   ]
  },
  {
   "cell_type": "code",
   "execution_count": 140,
   "metadata": {
    "colab": {},
    "colab_type": "code",
    "id": "rTw9bl4DB_jM"
   },
   "outputs": [],
   "source": [
    "l_t.backward()"
   ]
  },
  {
   "cell_type": "code",
   "execution_count": 141,
   "metadata": {
    "colab": {},
    "colab_type": "code",
    "id": "k4_zWnJkB_jO"
   },
   "outputs": [
    {
     "name": "stdout",
     "output_type": "stream",
     "text": [
      "tensor([77.4610], dtype=torch.float64)\n",
      "tensor([154.9219], dtype=torch.float64)\n"
     ]
    }
   ],
   "source": [
    "print(w_t.grad)\n",
    "print(b_t.grad)"
   ]
  },
  {
   "attachments": {},
   "cell_type": "markdown",
   "metadata": {
    "colab_type": "text",
    "id": "b8fwcPgHB_jP"
   },
   "source": [
    "[Video timestamp](https://youtu.be/Z6H3zakmn6E?t=545)\n",
    "\n",
    "Let's try to understand these numbers...\n",
    "\n",
    "![backprop2](https://dataflowr.github.io/notebooks/Module2/img/backprop2.png)"
   ]
  },
  {
   "cell_type": "code",
   "execution_count": 142,
   "metadata": {
    "colab": {},
    "colab_type": "code",
    "id": "ZDV9lByQB_jP"
   },
   "outputs": [
    {
     "name": "stdout",
     "output_type": "stream",
     "text": [
      "tensor(77.4610, dtype=torch.float64, grad_fn=<SumBackward0>)\n",
      "tensor(154.9219, dtype=torch.float64, grad_fn=<SumBackward0>)\n"
     ]
    }
   ],
   "source": [
    "yy_t = torch.exp(w_t*xx_t+b_t)\n",
    "print(torch.sum(2*(yy_t-ystar_t)*yy_t*xx_t))\n",
    "print(torch.sum(2*(yy_t-ystar_t)*yy_t))"
   ]
  },
  {
   "attachments": {},
   "cell_type": "markdown",
   "metadata": {
    "colab_type": "text",
    "id": "QMguUH4y8WgW"
   },
   "source": [
    "`tensor.backward()` accumulates the gradients in  the `grad` fields  of tensors."
   ]
  },
  {
   "cell_type": "code",
   "execution_count": 143,
   "metadata": {
    "colab": {},
    "colab_type": "code",
    "id": "70jDhm91B_jR"
   },
   "outputs": [
    {
     "name": "stdout",
     "output_type": "stream",
     "text": [
      "tensor([9.4877], dtype=torch.float64, grad_fn=<ExpBackward0>)\n"
     ]
    }
   ],
   "source": [
    "l_t = fun(xx_t,ystar_t)\n",
    "l_t.backward()"
   ]
  },
  {
   "cell_type": "code",
   "execution_count": 144,
   "metadata": {
    "colab": {},
    "colab_type": "code",
    "id": "L5H8BQOs8WgW"
   },
   "outputs": [
    {
     "name": "stdout",
     "output_type": "stream",
     "text": [
      "tensor([154.9219], dtype=torch.float64)\n",
      "tensor([309.8439], dtype=torch.float64)\n"
     ]
    }
   ],
   "source": [
    "print(w_t.grad)\n",
    "print(b_t.grad)"
   ]
  },
  {
   "attachments": {},
   "cell_type": "markdown",
   "metadata": {
    "colab_type": "text",
    "id": "1H2ZnVM5B_jU"
   },
   "source": [
    "By default, `backward` deletes the computational graph when it is used so that you will get an error below:"
   ]
  },
  {
   "cell_type": "code",
   "execution_count": 127,
   "metadata": {
    "colab": {},
    "colab_type": "code",
    "id": "06_uW2EwB_jU"
   },
   "outputs": [
    {
     "ename": "RuntimeError",
     "evalue": "Trying to backward through the graph a second time (or directly access saved tensors after they have already been freed). Saved intermediate values of the graph are freed when you call .backward() or autograd.grad(). Specify retain_graph=True if you need to backward through the graph a second time or if you need to access saved tensors after calling backward.",
     "output_type": "error",
     "traceback": [
      "\u001b[0;31m---------------------------------------------------------------------------\u001b[0m",
      "\u001b[0;31mRuntimeError\u001b[0m                              Traceback (most recent call last)",
      "Cell \u001b[0;32mIn[127], line 1\u001b[0m\n\u001b[0;32m----> 1\u001b[0m l_t\u001b[39m.\u001b[39;49mbackward()\n",
      "File \u001b[0;32m~/mambaforge/envs/pytorch/lib/python3.11/site-packages/torch/_tensor.py:487\u001b[0m, in \u001b[0;36mTensor.backward\u001b[0;34m(self, gradient, retain_graph, create_graph, inputs)\u001b[0m\n\u001b[1;32m    477\u001b[0m \u001b[39mif\u001b[39;00m has_torch_function_unary(\u001b[39mself\u001b[39m):\n\u001b[1;32m    478\u001b[0m     \u001b[39mreturn\u001b[39;00m handle_torch_function(\n\u001b[1;32m    479\u001b[0m         Tensor\u001b[39m.\u001b[39mbackward,\n\u001b[1;32m    480\u001b[0m         (\u001b[39mself\u001b[39m,),\n\u001b[0;32m   (...)\u001b[0m\n\u001b[1;32m    485\u001b[0m         inputs\u001b[39m=\u001b[39minputs,\n\u001b[1;32m    486\u001b[0m     )\n\u001b[0;32m--> 487\u001b[0m torch\u001b[39m.\u001b[39;49mautograd\u001b[39m.\u001b[39;49mbackward(\n\u001b[1;32m    488\u001b[0m     \u001b[39mself\u001b[39;49m, gradient, retain_graph, create_graph, inputs\u001b[39m=\u001b[39;49minputs\n\u001b[1;32m    489\u001b[0m )\n",
      "File \u001b[0;32m~/mambaforge/envs/pytorch/lib/python3.11/site-packages/torch/autograd/__init__.py:200\u001b[0m, in \u001b[0;36mbackward\u001b[0;34m(tensors, grad_tensors, retain_graph, create_graph, grad_variables, inputs)\u001b[0m\n\u001b[1;32m    195\u001b[0m     retain_graph \u001b[39m=\u001b[39m create_graph\n\u001b[1;32m    197\u001b[0m \u001b[39m# The reason we repeat same the comment below is that\u001b[39;00m\n\u001b[1;32m    198\u001b[0m \u001b[39m# some Python versions print out the first line of a multi-line function\u001b[39;00m\n\u001b[1;32m    199\u001b[0m \u001b[39m# calls in the traceback and some print out the last line\u001b[39;00m\n\u001b[0;32m--> 200\u001b[0m Variable\u001b[39m.\u001b[39;49m_execution_engine\u001b[39m.\u001b[39;49mrun_backward(  \u001b[39m# Calls into the C++ engine to run the backward pass\u001b[39;49;00m\n\u001b[1;32m    201\u001b[0m     tensors, grad_tensors_, retain_graph, create_graph, inputs,\n\u001b[1;32m    202\u001b[0m     allow_unreachable\u001b[39m=\u001b[39;49m\u001b[39mTrue\u001b[39;49;00m, accumulate_grad\u001b[39m=\u001b[39;49m\u001b[39mTrue\u001b[39;49;00m)\n",
      "\u001b[0;31mRuntimeError\u001b[0m: Trying to backward through the graph a second time (or directly access saved tensors after they have already been freed). Saved intermediate values of the graph are freed when you call .backward() or autograd.grad(). Specify retain_graph=True if you need to backward through the graph a second time or if you need to access saved tensors after calling backward."
     ]
    }
   ],
   "source": [
    "l_t.backward()"
   ]
  },
  {
   "cell_type": "code",
   "execution_count": 145,
   "metadata": {
    "colab": {},
    "colab_type": "code",
    "id": "fHxmIJj2B_jX"
   },
   "outputs": [
    {
     "name": "stdout",
     "output_type": "stream",
     "text": [
      "tensor([9.4877], dtype=torch.float64, grad_fn=<ExpBackward0>)\n",
      "tensor([154.9219], dtype=torch.float64)\n",
      "tensor([309.8439], dtype=torch.float64)\n"
     ]
    }
   ],
   "source": [
    "# Manually zero the gradients\n",
    "w_t.grad.data.zero_()\n",
    "b_t.grad.data.zero_()\n",
    "l_t = fun(xx_t,ystar_t)\n",
    "l_t.backward(retain_graph=True)\n",
    "l_t.backward()\n",
    "print(w_t.grad)\n",
    "print(b_t.grad)"
   ]
  },
  {
   "attachments": {},
   "cell_type": "markdown",
   "metadata": {
    "colab_type": "text",
    "id": "v40jAQEE8Wgu"
   },
   "source": [
    "The gradients must be set to zero manually. Otherwise they will cumulate across several _.backward()_ calls. \n",
    "This accumulating behavior is desirable in particular to compute the gradient of a loss summed over several “mini-batches,” or the gradient of a sum of losses."
   ]
  },
  {
   "attachments": {},
   "cell_type": "markdown",
   "metadata": {
    "colab": {},
    "colab_type": "code",
    "id": "CAiS-TfqDOMU"
   },
   "source": [
    "[![Dataflowr](https://raw.githubusercontent.com/dataflowr/website/master/_assets/dataflowr_logo.png)](https://dataflowr.github.io/website/)"
   ]
  }
 ],
 "metadata": {
  "accelerator": "GPU",
  "colab": {
   "include_colab_link": true,
   "name": "02_basics.ipynb",
   "provenance": []
  },
  "kernelspec": {
   "display_name": "Python 3",
   "language": "python",
   "name": "python3"
  },
  "language_info": {
   "codemirror_mode": {
    "name": "ipython",
    "version": 3
   },
   "file_extension": ".py",
   "mimetype": "text/x-python",
   "name": "python",
   "nbconvert_exporter": "python",
   "pygments_lexer": "ipython3",
   "version": "3.11.4"
  }
 },
 "nbformat": 4,
 "nbformat_minor": 1
}
